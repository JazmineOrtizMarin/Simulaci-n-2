{
  "nbformat": 4,
  "nbformat_minor": 0,
  "metadata": {
    "colab": {
      "provenance": [],
      "authorship_tag": "ABX9TyONl0umtXm8URFrqyrcVI/P",
      "include_colab_link": true
    },
    "kernelspec": {
      "name": "python3",
      "display_name": "Python 3"
    },
    "language_info": {
      "name": "python"
    }
  },
  "cells": [
    {
      "cell_type": "markdown",
      "metadata": {
        "id": "view-in-github",
        "colab_type": "text"
      },
      "source": [
        "<a href=\"https://colab.research.google.com/github/JazmineOrtizMarin/Simulaci-n-2/blob/main/P_Estocastico.ipynb\" target=\"_parent\"><img src=\"https://colab.research.google.com/assets/colab-badge.svg\" alt=\"Open In Colab\"/></a>"
      ]
    },
    {
      "cell_type": "code",
      "execution_count": 1,
      "metadata": {
        "id": "tidppafzTJbX"
      },
      "outputs": [],
      "source": [
        "import matplotlib.pyplot as plt\n",
        "import numpy as np"
      ]
    },
    {
      "cell_type": "code",
      "source": [
        "p = 1\n",
        "q = 0\n",
        "n = 25"
      ],
      "metadata": {
        "id": "V2TsrtHkTbVe"
      },
      "execution_count": 2,
      "outputs": []
    },
    {
      "cell_type": "code",
      "source": [
        "p_i = []\n",
        "q_i = []\n",
        "for i in range(n):\n",
        "  pi = 0.8*p+0.6*q\n",
        "  qi = 0.2*p+0.4*q\n",
        "\n",
        "  p_i.append(pi)\n",
        "  q_i.append(qi)\n",
        "\n",
        "  p=pi\n",
        "  q=qi"
      ],
      "metadata": {
        "id": "Re80aysWTj5w"
      },
      "execution_count": 5,
      "outputs": []
    },
    {
      "cell_type": "code",
      "source": [
        "p_i"
      ],
      "metadata": {
        "id": "-0RIeFB2U0On",
        "outputId": "523f09bb-f843-4eb1-d257-d15e403216b0",
        "colab": {
          "base_uri": "https://localhost:8080/"
        }
      },
      "execution_count": 6,
      "outputs": [
        {
          "output_type": "execute_result",
          "data": {
            "text/plain": [
              "[0.8,\n",
              " 0.7600000000000001,\n",
              " 0.7520000000000001,\n",
              " 0.7504000000000002,\n",
              " 0.7500800000000002,\n",
              " 0.7500160000000002,\n",
              " 0.7500032000000003,\n",
              " 0.7500006400000003,\n",
              " 0.7500001280000004,\n",
              " 0.7500000256000005,\n",
              " 0.7500000051200005,\n",
              " 0.7500000010240007,\n",
              " 0.7500000002048007,\n",
              " 0.7500000000409608,\n",
              " 0.7500000000081928,\n",
              " 0.7500000000016392,\n",
              " 0.7500000000003286,\n",
              " 0.7500000000000666,\n",
              " 0.7500000000000142,\n",
              " 0.7500000000000038,\n",
              " 0.7500000000000018,\n",
              " 0.7500000000000013,\n",
              " 0.7500000000000013,\n",
              " 0.7500000000000013,\n",
              " 0.7500000000000013]"
            ]
          },
          "metadata": {},
          "execution_count": 6
        }
      ]
    },
    {
      "cell_type": "code",
      "source": [
        "q_i"
      ],
      "metadata": {
        "id": "UYoYsMclWJVK",
        "outputId": "9f569db2-7301-482d-c098-b7edaca90b9c",
        "colab": {
          "base_uri": "https://localhost:8080/"
        }
      },
      "execution_count": 7,
      "outputs": [
        {
          "output_type": "execute_result",
          "data": {
            "text/plain": [
              "[0.2,\n",
              " 0.24000000000000005,\n",
              " 0.24800000000000005,\n",
              " 0.24960000000000004,\n",
              " 0.2499200000000001,\n",
              " 0.2499840000000001,\n",
              " 0.2499968000000001,\n",
              " 0.24999936000000011,\n",
              " 0.24999987200000012,\n",
              " 0.24999997440000016,\n",
              " 0.2499999948800002,\n",
              " 0.24999999897600023,\n",
              " 0.24999999979520024,\n",
              " 0.24999999995904026,\n",
              " 0.24999999999180827,\n",
              " 0.2499999999983619,\n",
              " 0.24999999999967265,\n",
              " 0.24999999999993483,\n",
              " 0.2499999999999873,\n",
              " 0.24999999999999778,\n",
              " 0.2499999999999999,\n",
              " 0.25000000000000033,\n",
              " 0.25000000000000044,\n",
              " 0.25000000000000044,\n",
              " 0.25000000000000044]"
            ]
          },
          "metadata": {},
          "execution_count": 7
        }
      ]
    }
  ]
}