{
  "nbformat": 4,
  "nbformat_minor": 0,
  "metadata": {
    "colab": {
      "provenance": [],
      "authorship_tag": "ABX9TyMMOuv3I1LgDvtQM3vkcfxi",
      "include_colab_link": true
    },
    "kernelspec": {
      "name": "python3",
      "display_name": "Python 3"
    },
    "language_info": {
      "name": "python"
    }
  },
  "cells": [
    {
      "cell_type": "markdown",
      "metadata": {
        "id": "view-in-github",
        "colab_type": "text"
      },
      "source": [
        "<a href=\"https://colab.research.google.com/github/JazmineOrtizMarin/Simulaci-n-2/blob/main/MC_Antit%C3%A9ticas.ipynb\" target=\"_parent\"><img src=\"https://colab.research.google.com/assets/colab-badge.svg\" alt=\"Open In Colab\"/></a>"
      ]
    },
    {
      "cell_type": "code",
      "execution_count": 22,
      "metadata": {
        "id": "N5k6k1353DI9"
      },
      "outputs": [],
      "source": [
        "import numpy as np\n",
        "import matplotlib.pyplot as plt\n",
        "import random as rd\n",
        "import time\n",
        "from random import random"
      ]
    },
    {
      "cell_type": "code",
      "source": [
        "def g(x):\n",
        "  return np.sqrt(np.arctan(x))"
      ],
      "metadata": {
        "id": "XtIPGW6h3JWz"
      },
      "execution_count": 23,
      "outputs": []
    },
    {
      "cell_type": "code",
      "source": [
        "n = 300\n",
        "repeticiones=50"
      ],
      "metadata": {
        "id": "f3WLFLbzkSZN"
      },
      "execution_count": 24,
      "outputs": []
    },
    {
      "cell_type": "markdown",
      "source": [
        "##**Método Crudo**"
      ],
      "metadata": {
        "id": "3PD4DPgQnHWN"
      }
    },
    {
      "cell_type": "code",
      "source": [
        "def crudo_antitetico(n):\n",
        "    suma_r = 0\n",
        "    suma_1r = 0\n",
        "    for i in range(n):\n",
        "        r = rd.random()\n",
        "        suma_r += g(r)          # theta1(r)\n",
        "        suma_1r += g(1-r)       # theta1(1-r)\n",
        "    # Promedios individuales y combinado\n",
        "    I1 = suma_r / n\n",
        "    I2 = suma_1r / n\n",
        "    I12 = (I1 + I2) / 2\n",
        "    return I1, I2, I12"
      ],
      "metadata": {
        "id": "hozkCK3mj6f9"
      },
      "execution_count": 25,
      "outputs": []
    },
    {
      "cell_type": "code",
      "source": [
        "def evaluar_antitetico(n, repeticiones):\n",
        "    inicio_tiempo = time.time()\n",
        "\n",
        "    lista_I1 = []\n",
        "    lista_I2 = []\n",
        "    lista_I12 = []\n",
        "\n",
        "    for _ in range(repeticiones):\n",
        "        i1, i2, i12 = crudo_antitetico(n)\n",
        "        lista_I1.append(i1)\n",
        "        lista_I2.append(i2)\n",
        "        lista_I12.append(i12)\n",
        "\n",
        "    fin_tiempo = time.time()\n",
        "    tiempo_total = fin_tiempo - inicio_tiempo\n",
        "\n",
        "    # Medias y varianzas de cada caso\n",
        "    mu_I1, var_I1 = np.mean(lista_I1), np.var(lista_I1)\n",
        "    mu_I2, var_I2 = np.mean(lista_I2), np.var(lista_I2)\n",
        "    mu_I12, var_I12 = np.mean(lista_I12), np.var(lista_I12)\n",
        "\n",
        "    return tiempo_total, (mu_I1, var_I1), (mu_I2, var_I2), (mu_I12, var_I12)"
      ],
      "metadata": {
        "id": "Qr1xqAoxkCv0"
      },
      "execution_count": 26,
      "outputs": []
    },
    {
      "cell_type": "code",
      "source": [
        "tiempo, I1, I2, I12 = evaluar_antitetico(n, repeticiones)"
      ],
      "metadata": {
        "id": "fqFGOKZNlCqe"
      },
      "execution_count": 27,
      "outputs": []
    },
    {
      "cell_type": "code",
      "source": [
        "print(\"   Estimador        Media       Varianza\")\n",
        "print(\"===============================================\")\n",
        "print(f\"  theta1(r)     {I1[0]:.6f}   {I1[1]:.6f}\")\n",
        "print(f\"  theta1(1-r)   {I2[0]:.6f}   {I2[1]:.6f}\")\n",
        "print(f\"  Antitético    {I12[0]:.6f}   {I12[1]:.6f}\")\n",
        "print(\"===============================================\")\n",
        "print(f\"Tiempo total: {tiempo:.4f}\")"
      ],
      "metadata": {
        "id": "pLnM7iOGkHGE",
        "outputId": "07597c80-afdc-4619-e3cf-f1505535766e",
        "colab": {
          "base_uri": "https://localhost:8080/"
        }
      },
      "execution_count": 28,
      "outputs": [
        {
          "output_type": "stream",
          "name": "stdout",
          "text": [
            "   Estimador        Media       Varianza\n",
            "===============================================\n",
            "  theta1(r)     0.632154   0.000142\n",
            "  theta1(1-r)   0.627843   0.000116\n",
            "  Antitético    0.629998   0.000012\n",
            "===============================================\n",
            "Tiempo total: 0.0860\n"
          ]
        }
      ]
    },
    {
      "cell_type": "markdown",
      "source": [
        "##**Método Acierto y error**"
      ],
      "metadata": {
        "id": "Pxu3Hg3aANmS"
      }
    },
    {
      "cell_type": "code",
      "source": [
        "def MC (f, a, b, N):\n",
        "  I1, I2 = 0, 0\n",
        "  for i in range (n):\n",
        "    r = random()\n",
        "    I1 += f(r*(b-a)+a)\n",
        "    I2 += f((1-r)*(b-a)+a)\n",
        "  return I1/N, I2/N"
      ],
      "metadata": {
        "id": "XeXgDR_r3bJy"
      },
      "execution_count": 29,
      "outputs": []
    },
    {
      "cell_type": "code",
      "source": [
        "starttime=time.perf_counter()\n",
        "I1, I2, I12 = [], [], []\n",
        "for j in range (1, 1000):\n",
        "  i1, i2 = MC(g, 0, 1, 1000)\n",
        "  I1. append(i1)\n",
        "  I2. append(i2)\n",
        "  I12.append((i1+i2)/2)\n",
        "endtime = time.perf_counter()\n",
        "t1 = endtime-starttime\n",
        "\n",
        "iimu, iis2, iis, t2 = crudo(1000,1000)"
      ],
      "metadata": {
        "colab": {
          "base_uri": "https://localhost:8080/",
          "height": 176
        },
        "id": "PXE0M3824_LT",
        "outputId": "f415ad7a-1828-4a1a-c6ae-1157f75c0af7"
      },
      "execution_count": 30,
      "outputs": [
        {
          "output_type": "error",
          "ename": "NameError",
          "evalue": "name 'crudo' is not defined",
          "traceback": [
            "\u001b[0;31m---------------------------------------------------------------------------\u001b[0m",
            "\u001b[0;31mNameError\u001b[0m                                 Traceback (most recent call last)",
            "\u001b[0;32m/tmp/ipython-input-3452965387.py\u001b[0m in \u001b[0;36m<cell line: 0>\u001b[0;34m()\u001b[0m\n\u001b[1;32m      9\u001b[0m \u001b[0mt1\u001b[0m \u001b[0;34m=\u001b[0m \u001b[0mendtime\u001b[0m\u001b[0;34m-\u001b[0m\u001b[0mstarttime\u001b[0m\u001b[0;34m\u001b[0m\u001b[0;34m\u001b[0m\u001b[0m\n\u001b[1;32m     10\u001b[0m \u001b[0;34m\u001b[0m\u001b[0m\n\u001b[0;32m---> 11\u001b[0;31m \u001b[0miimu\u001b[0m\u001b[0;34m,\u001b[0m \u001b[0miis2\u001b[0m\u001b[0;34m,\u001b[0m \u001b[0miis\u001b[0m\u001b[0;34m,\u001b[0m \u001b[0mt2\u001b[0m \u001b[0;34m=\u001b[0m \u001b[0mcrudo\u001b[0m\u001b[0;34m(\u001b[0m\u001b[0;36m1000\u001b[0m\u001b[0;34m,\u001b[0m\u001b[0;36m1000\u001b[0m\u001b[0;34m)\u001b[0m\u001b[0;34m\u001b[0m\u001b[0;34m\u001b[0m\u001b[0m\n\u001b[0m",
            "\u001b[0;31mNameError\u001b[0m: name 'crudo' is not defined"
          ]
        }
      ]
    },
    {
      "cell_type": "code",
      "source": [
        "mu_theta_1 = np.mean(I1)\n",
        "s2_theta_1 = np.var(I1)\n",
        "\n",
        "mu_theta_1 = np.mean(I2)\n",
        "s2_theta_1 = np.var(I2)\n",
        "\n",
        "mu_theta_1 = np.mean(I12)\n",
        "s2_theta_1 = np.var(I12)"
      ],
      "metadata": {
        "id": "nRKu3e726jRD"
      },
      "execution_count": null,
      "outputs": []
    },
    {
      "cell_type": "code",
      "source": [
        "def crudo(n):\n",
        "  G=[]\n",
        "  for i in range (n):\n",
        "    u=rd.random()\n",
        "    G.append(g(u))\n",
        "  return np.mean(G), np.var(G), np.std(G), G"
      ],
      "metadata": {
        "id": "YFiHJ0QA3LPa"
      },
      "execution_count": null,
      "outputs": []
    }
  ]
}