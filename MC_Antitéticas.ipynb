{
  "nbformat": 4,
  "nbformat_minor": 0,
  "metadata": {
    "colab": {
      "provenance": [],
      "authorship_tag": "ABX9TyOzTRUKDUdmICFdu8bThhkW",
      "include_colab_link": true
    },
    "kernelspec": {
      "name": "python3",
      "display_name": "Python 3"
    },
    "language_info": {
      "name": "python"
    }
  },
  "cells": [
    {
      "cell_type": "markdown",
      "metadata": {
        "id": "view-in-github",
        "colab_type": "text"
      },
      "source": [
        "<a href=\"https://colab.research.google.com/github/JazmineOrtizMarin/Simulaci-n-2/blob/main/MC_Antit%C3%A9ticas.ipynb\" target=\"_parent\"><img src=\"https://colab.research.google.com/assets/colab-badge.svg\" alt=\"Open In Colab\"/></a>"
      ]
    },
    {
      "cell_type": "code",
      "execution_count": 35,
      "metadata": {
        "id": "N5k6k1353DI9"
      },
      "outputs": [],
      "source": [
        "import numpy as np\n",
        "import matplotlib.pyplot as plt\n",
        "import random as rd\n",
        "import time\n",
        "from random import random"
      ]
    },
    {
      "cell_type": "code",
      "source": [
        "def g(x):\n",
        "  return np.sqrt(np.arctan(x))"
      ],
      "metadata": {
        "id": "XtIPGW6h3JWz"
      },
      "execution_count": 36,
      "outputs": []
    },
    {
      "cell_type": "code",
      "source": [
        "n = 300\n",
        "n_repeticiones = 50"
      ],
      "metadata": {
        "id": "6H2MRpZb7aOi"
      },
      "execution_count": 42,
      "outputs": []
    },
    {
      "cell_type": "code",
      "source": [
        "def aciertoerror(n):\n",
        "  aciertos=0\n",
        "  for i in range (n):\n",
        "    x = rd.random()\n",
        "    y = rd.random()\n",
        "    if y <= g(x):\n",
        "      aciertos+=1\n",
        "  I=aciertos/n\n",
        "  return I"
      ],
      "metadata": {
        "id": "gJc7My0uZSdY"
      },
      "execution_count": 43,
      "outputs": []
    },
    {
      "cell_type": "code",
      "source": [
        "def aciertoerror_antithetic(n):\n",
        "  aciertos = 0\n",
        "\n",
        "  for i in range(int(n / 2)): # El bucle va a la mitad de n, porque probamos 2 puntos en cada iteración\n",
        "    x = rd.random()\n",
        "    y = rd.random()\n",
        "\n",
        "    # Prueba para el punto original\n",
        "    if y <= g(x):\n",
        "      aciertos += 1\n",
        "\n",
        "    # Prueba para el punto antitético\n",
        "    if (1 - y) <= g(1 - x):\n",
        "      aciertos += 1\n",
        "\n",
        "  I = aciertos / n # La estimación final se divide entre el total de puntos, n\n",
        "  return I"
      ],
      "metadata": {
        "id": "yLjPOZDiAMQ6"
      },
      "execution_count": 44,
      "outputs": []
    },
    {
      "cell_type": "markdown",
      "source": [
        "Función para evaluar y medir la confianza:"
      ],
      "metadata": {
        "id": "aV4RrgnrAuCs"
      }
    },
    {
      "cell_type": "code",
      "source": [
        "def evaluar_metodo(metodo_a_usar, n_puntos, repeticiones):\n",
        "\n",
        "    lista_resultados = []\n",
        "    for _ in range(repeticiones):\n",
        "        estimacion = metodo_a_usar(n_puntos)\n",
        "        lista_resultados.append(estimacion)\n",
        "\n",
        "    promedio = np.mean(lista_resultados)\n",
        "    varianza = np.var(lista_resultados)\n",
        "    return promedio, varianza"
      ],
      "metadata": {
        "id": "TFVe8F0oAp_7"
      },
      "execution_count": 45,
      "outputs": []
    },
    {
      "cell_type": "markdown",
      "source": [
        "Ejecución y comparación"
      ],
      "metadata": {
        "id": "WrMLXysyBA9a"
      }
    },
    {
      "cell_type": "code",
      "source": [
        "# Evaluar el método original\n",
        "prom_original, var_original = evaluar_metodo(aciertoerror, n, n_repeticiones)\n",
        "\n",
        "# Evaluar el método con variables antitéticas\n",
        "prom_antithetic, var_antithetic = evaluar_metodo(aciertoerror_antithetic, n, n_repeticiones)\n",
        "\n",
        "print(f\"Método Original:       Promedio = {prom_original:.6f}, Varianza = {var_original:.8f}\")\n",
        "print(f\"Método Antitético:     Promedio = {prom_antithetic:.6f}, Varianza = {var_antithetic:.8f}\")\n",
        "\n",
        "reduccion = (var_original - var_antithetic) / var_original * 100\n",
        "print(f\"\\n Reducción de la varianza: {reduccion:.2f}%\")"
      ],
      "metadata": {
        "colab": {
          "base_uri": "https://localhost:8080/"
        },
        "id": "UMByiRq3A8YS",
        "outputId": "ecfef3f4-637c-4704-fe91-f478e61b2de3"
      },
      "execution_count": 48,
      "outputs": [
        {
          "output_type": "stream",
          "name": "stdout",
          "text": [
            "Método Original:       Promedio = 0.631733, Varianza = 0.00075077\n",
            "Método Antitético:     Promedio = 0.629867, Varianza = 0.00033509\n",
            "\n",
            " Reducción de la varianza: 55.37%\n"
          ]
        }
      ]
    },
    {
      "cell_type": "markdown",
      "source": [
        "##**A partir de aquí no está comprobado el funcionamiento**"
      ],
      "metadata": {
        "id": "Pxu3Hg3aANmS"
      }
    },
    {
      "cell_type": "code",
      "source": [
        "def MC (f, a, b, N):\n",
        "  I1, I2 = 0, 0\n",
        "  for i in range (n):\n",
        "    r = random()\n",
        "    I1 += f(r*(b-a)+a)\n",
        "    I2 += f((1-r)*(b-a)+a)\n",
        "  return I1/N, I2/N"
      ],
      "metadata": {
        "id": "XeXgDR_r3bJy"
      },
      "execution_count": 40,
      "outputs": []
    },
    {
      "cell_type": "code",
      "source": [
        "starttime=time.perf_counter()\n",
        "I1, I2, I12 = [], [], []\n",
        "for j in range (1, 1000):\n",
        "  i1, i2 = MC(g, 0, 1, 1000)\n",
        "  I1. append(i1)\n",
        "  I2. append(i2)\n",
        "  I12.append((i1+i2)/2)\n",
        "endtime = time.perf_counter()\n",
        "t1 = endtime-starttime\n",
        "\n",
        "iimu, iis2, iis, t2 = crudo(1000,1000)"
      ],
      "metadata": {
        "colab": {
          "base_uri": "https://localhost:8080/",
          "height": 176
        },
        "id": "PXE0M3824_LT",
        "outputId": "7df9c678-354b-4ba1-f6e6-bdfa330a7492"
      },
      "execution_count": 41,
      "outputs": [
        {
          "output_type": "error",
          "ename": "TypeError",
          "evalue": "crudo() takes 1 positional argument but 2 were given",
          "traceback": [
            "\u001b[0;31m---------------------------------------------------------------------------\u001b[0m",
            "\u001b[0;31mTypeError\u001b[0m                                 Traceback (most recent call last)",
            "\u001b[0;32m/tmp/ipython-input-3452965387.py\u001b[0m in \u001b[0;36m<cell line: 0>\u001b[0;34m()\u001b[0m\n\u001b[1;32m      9\u001b[0m \u001b[0mt1\u001b[0m \u001b[0;34m=\u001b[0m \u001b[0mendtime\u001b[0m\u001b[0;34m-\u001b[0m\u001b[0mstarttime\u001b[0m\u001b[0;34m\u001b[0m\u001b[0;34m\u001b[0m\u001b[0m\n\u001b[1;32m     10\u001b[0m \u001b[0;34m\u001b[0m\u001b[0m\n\u001b[0;32m---> 11\u001b[0;31m \u001b[0miimu\u001b[0m\u001b[0;34m,\u001b[0m \u001b[0miis2\u001b[0m\u001b[0;34m,\u001b[0m \u001b[0miis\u001b[0m\u001b[0;34m,\u001b[0m \u001b[0mt2\u001b[0m \u001b[0;34m=\u001b[0m \u001b[0mcrudo\u001b[0m\u001b[0;34m(\u001b[0m\u001b[0;36m1000\u001b[0m\u001b[0;34m,\u001b[0m\u001b[0;36m1000\u001b[0m\u001b[0;34m)\u001b[0m\u001b[0;34m\u001b[0m\u001b[0;34m\u001b[0m\u001b[0m\n\u001b[0m",
            "\u001b[0;31mTypeError\u001b[0m: crudo() takes 1 positional argument but 2 were given"
          ]
        }
      ]
    },
    {
      "cell_type": "code",
      "source": [
        "mu_theta_1 = np.mean(I1)\n",
        "s2_theta_1 = np.var(I1)\n",
        "\n",
        "mu_theta_1 = np.mean(I2)\n",
        "s2_theta_1 = np.var(I2)\n",
        "\n",
        "mu_theta_1 = np.mean(I12)\n",
        "s2_theta_1 = np.var(I12)"
      ],
      "metadata": {
        "id": "nRKu3e726jRD"
      },
      "execution_count": null,
      "outputs": []
    },
    {
      "cell_type": "code",
      "source": [
        "def crudo(n):\n",
        "  G=[]\n",
        "  for i in range (n):\n",
        "    u=rd.random()\n",
        "    G.append(g(u))\n",
        "  return np.mean(G), np.var(G), np.std(G), G"
      ],
      "metadata": {
        "id": "YFiHJ0QA3LPa"
      },
      "execution_count": 39,
      "outputs": []
    }
  ]
}