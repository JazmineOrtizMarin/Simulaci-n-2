{
  "nbformat": 4,
  "nbformat_minor": 0,
  "metadata": {
    "colab": {
      "provenance": [],
      "authorship_tag": "ABX9TyOgoh1jKi8f9tGFhes84Lxe",
      "include_colab_link": true
    },
    "kernelspec": {
      "name": "python3",
      "display_name": "Python 3"
    },
    "language_info": {
      "name": "python"
    }
  },
  "cells": [
    {
      "cell_type": "markdown",
      "metadata": {
        "id": "view-in-github",
        "colab_type": "text"
      },
      "source": [
        "<a href=\"https://colab.research.google.com/github/JazmineOrtizMarin/Simulaci-n-2/blob/main/MC_Antit%C3%A9ticas.ipynb\" target=\"_parent\"><img src=\"https://colab.research.google.com/assets/colab-badge.svg\" alt=\"Open In Colab\"/></a>"
      ]
    },
    {
      "cell_type": "code",
      "execution_count": 35,
      "metadata": {
        "id": "N5k6k1353DI9"
      },
      "outputs": [],
      "source": [
        "import numpy as np\n",
        "import matplotlib.pyplot as plt\n",
        "import random as rd\n",
        "import timeit\n",
        "from random import random"
      ]
    },
    {
      "cell_type": "code",
      "source": [
        "def g(x):\n",
        "  return np.sqrt(np.arctan(x))"
      ],
      "metadata": {
        "id": "XtIPGW6h3JWz"
      },
      "execution_count": 36,
      "outputs": []
    },
    {
      "cell_type": "code",
      "source": [
        "n = 300 # Puntos usados para la estimación. Se usará la misma n para ambos métodos"
      ],
      "metadata": {
        "id": "6H2MRpZb7aOi"
      },
      "execution_count": 37,
      "outputs": []
    },
    {
      "cell_type": "code",
      "source": [
        "def aciertoerror(n):\n",
        "  aciertos=0\n",
        "  for i in range (n):\n",
        "    x = rd.random()\n",
        "    y = rd.random()\n",
        "    if y <= g(x):\n",
        "      aciertos+=1\n",
        "  I=aciertos/n\n",
        "  return I"
      ],
      "metadata": {
        "id": "gJc7My0uZSdY"
      },
      "execution_count": 38,
      "outputs": []
    },
    {
      "cell_type": "code",
      "source": [
        "def crudo(n):\n",
        "  G=[]\n",
        "  for i in range (n):\n",
        "    u=rd.random()\n",
        "    G.append(g(u))\n",
        "  return np.mean(G), np.var(G), np.std(G), G"
      ],
      "metadata": {
        "id": "YFiHJ0QA3LPa"
      },
      "execution_count": 39,
      "outputs": []
    },
    {
      "cell_type": "code",
      "source": [
        "def MC (f, a, b, N):\n",
        "  I1, I2 = 0, 0\n",
        "  for i in range (n):\n",
        "    r = random()\n",
        "    I1 += f(r*(b-a)+a)\n",
        "    I2 += f((1-r)*(b-a)+a)\n",
        "  return I1/N, I2/N"
      ],
      "metadata": {
        "id": "XeXgDR_r3bJy"
      },
      "execution_count": 40,
      "outputs": []
    },
    {
      "cell_type": "code",
      "source": [
        "starttime=time.perf_counter()\n",
        "I1, I2, I12 = [], [], []\n",
        "for j in range (1, 1000):\n",
        "  i1, i2 = MC(g, 0, 1, 1000)\n",
        "  I1. append(i1)\n",
        "  I2. append(i2)\n",
        "  I12.append((i1+i2)/2)\n",
        "endtime = time.perf_counter()\n",
        "t1 = endtime-starttime\n",
        "\n",
        "iimu, iis2, iis, t2 = crudo(1000,1000)"
      ],
      "metadata": {
        "colab": {
          "base_uri": "https://localhost:8080/",
          "height": 176
        },
        "id": "PXE0M3824_LT",
        "outputId": "7df9c678-354b-4ba1-f6e6-bdfa330a7492"
      },
      "execution_count": 41,
      "outputs": [
        {
          "output_type": "error",
          "ename": "TypeError",
          "evalue": "crudo() takes 1 positional argument but 2 were given",
          "traceback": [
            "\u001b[0;31m---------------------------------------------------------------------------\u001b[0m",
            "\u001b[0;31mTypeError\u001b[0m                                 Traceback (most recent call last)",
            "\u001b[0;32m/tmp/ipython-input-3452965387.py\u001b[0m in \u001b[0;36m<cell line: 0>\u001b[0;34m()\u001b[0m\n\u001b[1;32m      9\u001b[0m \u001b[0mt1\u001b[0m \u001b[0;34m=\u001b[0m \u001b[0mendtime\u001b[0m\u001b[0;34m-\u001b[0m\u001b[0mstarttime\u001b[0m\u001b[0;34m\u001b[0m\u001b[0;34m\u001b[0m\u001b[0m\n\u001b[1;32m     10\u001b[0m \u001b[0;34m\u001b[0m\u001b[0m\n\u001b[0;32m---> 11\u001b[0;31m \u001b[0miimu\u001b[0m\u001b[0;34m,\u001b[0m \u001b[0miis2\u001b[0m\u001b[0;34m,\u001b[0m \u001b[0miis\u001b[0m\u001b[0;34m,\u001b[0m \u001b[0mt2\u001b[0m \u001b[0;34m=\u001b[0m \u001b[0mcrudo\u001b[0m\u001b[0;34m(\u001b[0m\u001b[0;36m1000\u001b[0m\u001b[0;34m,\u001b[0m\u001b[0;36m1000\u001b[0m\u001b[0;34m)\u001b[0m\u001b[0;34m\u001b[0m\u001b[0;34m\u001b[0m\u001b[0m\n\u001b[0m",
            "\u001b[0;31mTypeError\u001b[0m: crudo() takes 1 positional argument but 2 were given"
          ]
        }
      ]
    },
    {
      "cell_type": "code",
      "source": [
        "mu_theta_1 = np.mean(I1)\n",
        "s2_theta_1 = np.var(I1)\n",
        "\n",
        "mu_theta_1 = np.mean(I2)\n",
        "s2_theta_1 = np.var(I2)\n",
        "\n",
        "mu_theta_1 = np.mean(I12)\n",
        "s2_theta_1 = np.var(I12)"
      ],
      "metadata": {
        "id": "nRKu3e726jRD"
      },
      "execution_count": null,
      "outputs": []
    }
  ]
}