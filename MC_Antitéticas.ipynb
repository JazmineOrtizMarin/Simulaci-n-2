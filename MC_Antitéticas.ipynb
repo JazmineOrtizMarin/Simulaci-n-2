{
  "nbformat": 4,
  "nbformat_minor": 0,
  "metadata": {
    "colab": {
      "provenance": [],
      "authorship_tag": "ABX9TyPbj83DyYU0/kioo7VECcpq",
      "include_colab_link": true
    },
    "kernelspec": {
      "name": "python3",
      "display_name": "Python 3"
    },
    "language_info": {
      "name": "python"
    }
  },
  "cells": [
    {
      "cell_type": "markdown",
      "metadata": {
        "id": "view-in-github",
        "colab_type": "text"
      },
      "source": [
        "<a href=\"https://colab.research.google.com/github/JazmineOrtizMarin/Simulaci-n-2/blob/main/MC_Antit%C3%A9ticas.ipynb\" target=\"_parent\"><img src=\"https://colab.research.google.com/assets/colab-badge.svg\" alt=\"Open In Colab\"/></a>"
      ]
    },
    {
      "cell_type": "code",
      "execution_count": 104,
      "metadata": {
        "id": "N5k6k1353DI9"
      },
      "outputs": [],
      "source": [
        "import numpy as np\n",
        "import matplotlib.pyplot as plt\n",
        "import random as rd\n",
        "import time\n",
        "from random import random"
      ]
    },
    {
      "cell_type": "code",
      "source": [
        "def g(x):\n",
        "  return np.sqrt(np.arctan(x))"
      ],
      "metadata": {
        "id": "XtIPGW6h3JWz"
      },
      "execution_count": 105,
      "outputs": []
    },
    {
      "cell_type": "code",
      "source": [
        "n = 5000\n",
        "repeticiones=50"
      ],
      "metadata": {
        "id": "f3WLFLbzkSZN"
      },
      "execution_count": 106,
      "outputs": []
    },
    {
      "cell_type": "markdown",
      "source": [
        "##**Método Crudo**"
      ],
      "metadata": {
        "id": "3PD4DPgQnHWN"
      }
    },
    {
      "cell_type": "code",
      "source": [
        "def crudo_antitetico(n):\n",
        "    suma_r = 0\n",
        "    suma_1r = 0\n",
        "    for i in range(n):\n",
        "        r = rd.random()\n",
        "        suma_r += g(r)          # theta1(r)\n",
        "        suma_1r += g(1-r)       # theta1(1-r)\n",
        "    # Promedios individuales y combinado\n",
        "    I1 = suma_r / n\n",
        "    I2 = suma_1r / n\n",
        "    I12 = (I1 + I2) / 2\n",
        "    return I1, I2, I12"
      ],
      "metadata": {
        "id": "hozkCK3mj6f9"
      },
      "execution_count": 107,
      "outputs": []
    },
    {
      "cell_type": "code",
      "source": [
        "def evaluar_antitetico(n, repeticiones):\n",
        "    inicio_tiempo = time.time()\n",
        "\n",
        "    lista_I1 = []\n",
        "    lista_I2 = []\n",
        "    lista_I12 = []\n",
        "\n",
        "    for _ in range(repeticiones):\n",
        "        i1, i2, i12 = crudo_antitetico(n)\n",
        "        lista_I1.append(i1)\n",
        "        lista_I2.append(i2)\n",
        "        lista_I12.append(i12)\n",
        "\n",
        "    fin_tiempo = time.time()\n",
        "    tiempo_total = fin_tiempo - inicio_tiempo\n",
        "\n",
        "    # Medias y varianzas de cada caso\n",
        "    mu_I1, var_I1 = np.mean(lista_I1), np.var(lista_I1)\n",
        "    mu_I2, var_I2 = np.mean(lista_I2), np.var(lista_I2)\n",
        "    mu_I12, var_I12 = np.mean(lista_I12), np.var(lista_I12)\n",
        "\n",
        "    return tiempo_total, (mu_I1, var_I1), (mu_I2, var_I2), (mu_I12, var_I12)"
      ],
      "metadata": {
        "id": "Qr1xqAoxkCv0"
      },
      "execution_count": 108,
      "outputs": []
    },
    {
      "cell_type": "code",
      "source": [
        "tiempo, I1, I2, I12 = evaluar_antitetico(n, repeticiones)"
      ],
      "metadata": {
        "id": "fqFGOKZNlCqe"
      },
      "execution_count": 109,
      "outputs": []
    },
    {
      "cell_type": "code",
      "source": [
        "print(\"   Estimador     Media     Varianza\")\n",
        "print(\"-----------------------------------------------\")\n",
        "print(f\"  theta1(r)     {I1[0]:.6f}   {I1[1]:.6f}\")\n",
        "print(f\"  theta1(1-r)   {I2[0]:.6f}   {I2[1]:.6f}\")\n",
        "print(f\"  Antitético    {I12[0]:.6f}   {I12[1]:.6f}\")\n",
        "print(\"-----------------------------------------------\")\n",
        "print(f\"Tiempo total: {tiempo:.4f}s\")"
      ],
      "metadata": {
        "colab": {
          "base_uri": "https://localhost:8080/"
        },
        "id": "pLnM7iOGkHGE",
        "outputId": "c5061103-f55e-4724-8668-2f28c8335a41"
      },
      "execution_count": 116,
      "outputs": [
        {
          "output_type": "stream",
          "name": "stdout",
          "text": [
            "   Estimador     Media     Varianza\n",
            "-----------------------------------------------\n",
            "  theta1(r)     0.629628   0.000042\n",
            "  theta1(1-r)   0.629484   0.000042\n",
            "  Antitético    0.629556   0.000026\n",
            "-----------------------------------------------\n",
            "Tiempo total: 1.0596s\n"
          ]
        }
      ]
    },
    {
      "cell_type": "markdown",
      "source": [
        "##**Método Acierto y error**"
      ],
      "metadata": {
        "id": "Pxu3Hg3aANmS"
      }
    },
    {
      "cell_type": "code",
      "source": [
        "def aciertoerror_antitetico(n):\n",
        "    aciertos_r = 0\n",
        "    aciertos_1r = 0\n",
        "    for i in range(n):\n",
        "        x = rd.random()\n",
        "        y = rd.random()\n",
        "        # Usamos r\n",
        "        if y <= g(x):\n",
        "            aciertos_r += 1\n",
        "        # Usamos 1-r\n",
        "        if y <= g(1-x):\n",
        "            aciertos_1r += 1\n",
        "    I1 = aciertos_r / n\n",
        "    I2 = aciertos_1r / n\n",
        "    I12 = (I1 + I2) / 2\n",
        "    return I1, I2, I12"
      ],
      "metadata": {
        "id": "_ub8CkG5ooVl"
      },
      "execution_count": 111,
      "outputs": []
    },
    {
      "cell_type": "code",
      "source": [
        "def evaluar_aciertoerror_antitetico(n, repeticiones):\n",
        "    inicio_tiempo = time.time()\n",
        "\n",
        "    lista_I1 = []\n",
        "    lista_I2 = []\n",
        "    lista_I12 = []\n",
        "\n",
        "    for _ in range(repeticiones):\n",
        "        i1, i2, i12 = aciertoerror_antitetico(n)\n",
        "        lista_I1.append(i1)\n",
        "        lista_I2.append(i2)\n",
        "        lista_I12.append(i12)\n",
        "\n",
        "    fin_tiempo = time.time()\n",
        "    tiempo_total = fin_tiempo - inicio_tiempo\n",
        "\n",
        "    mu_I1, var_I1 = np.mean(lista_I1), np.var(lista_I1)\n",
        "    mu_I2, var_I2 = np.mean(lista_I2), np.var(lista_I2)\n",
        "    mu_I12, var_I12 = np.mean(lista_I12), np.var(lista_I12)\n",
        "\n",
        "    return tiempo_total, (mu_I1, var_I1), (mu_I2, var_I2), (mu_I12, var_I12)"
      ],
      "metadata": {
        "id": "yXrhwy37opk0"
      },
      "execution_count": 112,
      "outputs": []
    },
    {
      "cell_type": "code",
      "source": [
        "tiempo, I1, I2, I12 = evaluar_aciertoerror_antitetico(n, repeticiones)"
      ],
      "metadata": {
        "id": "dK6qrBThotJM"
      },
      "execution_count": 113,
      "outputs": []
    },
    {
      "cell_type": "code",
      "source": [
        "print(\"   Estimador     Media     Varianza\")\n",
        "print(\"-----------------------------------------------\")\n",
        "print(f\"  theta1(r)     {I1[0]:.6f}   {I1[1]:.6f}\")\n",
        "print(f\"  theta1(1-r)   {I2[0]:.6f}   {I2[1]:.6f}\")\n",
        "print(f\"  Antitético    {I12[0]:.6f}   {I12[1]:.6f}\")\n",
        "print(\"-----------------------------------------------\")\n",
        "print(f\"Tiempo total: {tiempo:.4f}s\")"
      ],
      "metadata": {
        "colab": {
          "base_uri": "https://localhost:8080/"
        },
        "id": "-t7qmJsNoyet",
        "outputId": "e71eb6e8-13c0-4005-bd4c-fc0964513071"
      },
      "execution_count": 115,
      "outputs": [
        {
          "output_type": "stream",
          "name": "stdout",
          "text": [
            "   Estimador     Media     Varianza\n",
            "-----------------------------------------------\n",
            "  theta1(r)     0.629628   0.000042\n",
            "  theta1(1-r)   0.629484   0.000042\n",
            "  Antitético    0.629556   0.000026\n",
            "-----------------------------------------------\n",
            "Tiempo total: 1.0596s\n"
          ]
        }
      ]
    }
  ]
}