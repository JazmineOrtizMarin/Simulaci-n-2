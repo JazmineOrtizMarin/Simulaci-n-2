{
  "nbformat": 4,
  "nbformat_minor": 0,
  "metadata": {
    "colab": {
      "provenance": [],
      "include_colab_link": true
    },
    "kernelspec": {
      "name": "python3",
      "display_name": "Python 3"
    },
    "language_info": {
      "name": "python"
    }
  },
  "cells": [
    {
      "cell_type": "markdown",
      "metadata": {
        "id": "view-in-github",
        "colab_type": "text"
      },
      "source": [
        "<a href=\"https://colab.research.google.com/github/JazmineOrtizMarin/Simulaci-n-2/blob/main/MC_Antit%C3%A9ticas.ipynb\" target=\"_parent\"><img src=\"https://colab.research.google.com/assets/colab-badge.svg\" alt=\"Open In Colab\"/></a>"
      ]
    },
    {
      "cell_type": "markdown",
      "source": [
        "## **Monte Carlo y Variables antitéticas**"
      ],
      "metadata": {
        "id": "SNyvW76mfL3N"
      }
    },
    {
      "cell_type": "code",
      "execution_count": 88,
      "metadata": {
        "id": "N5k6k1353DI9"
      },
      "outputs": [],
      "source": [
        "import numpy as np\n",
        "import matplotlib.pyplot as plt\n",
        "import random as rd\n",
        "import time\n",
        "from random import random"
      ]
    },
    {
      "cell_type": "markdown",
      "source": [
        "**Idea general:**\n",
        "\n",
        "1. Generamos números aleatorios uniformes en el intervalo $$ [0,1] $$\n",
        "2. Evaluamos la función $$ g(x) = \\sqrt{\\arctan(x)} $$ en esos puntos.  \n",
        "3. Calculamos el promedio de esos valores.  "
      ],
      "metadata": {
        "id": "rT7aTcQBktVT"
      }
    },
    {
      "cell_type": "code",
      "source": [
        "def g(x):\n",
        "  return np.sqrt(np.arctan(x))"
      ],
      "metadata": {
        "id": "XtIPGW6h3JWz"
      },
      "execution_count": 89,
      "outputs": []
    },
    {
      "cell_type": "markdown",
      "source": [
        "Por la ley de los grandes números, ese promedio se va acercando al valor real de la integral\n",
        "a medida que aumentamos el número de simulaciones \\(n\\)."
      ],
      "metadata": {
        "id": "7aKq0P7fk467"
      }
    },
    {
      "cell_type": "code",
      "source": [
        "n = 5000\n",
        "repeticiones=50"
      ],
      "metadata": {
        "id": "f3WLFLbzkSZN"
      },
      "execution_count": 90,
      "outputs": []
    },
    {
      "cell_type": "markdown",
      "source": [
        "**Variables Antitéticas:**\n",
        "\n",
        "Un problema con Monte Carlo es que, aunque es insesgado (en promedio da el valor correcto), puede tener mucha **varianza**.  \n",
        "\n",
        "Para reducir esa variabilidad, usamos el truco de las variables antitéticas:\n",
        "\n",
        "- Si tenemos un número aleatorio \\(r\\), también usamos su complementario \\(1-r\\).  \n",
        "- Esto se hace porque \\(r\\) y \\(1-r\\) están correlacionados de forma negativa:  \n",
        "  si un valor da un resultado alto, el otro tiende a compensar.  \n",
        "- Así, al promediarlos, la estimación fluctúa menos.  \n",
        "\n",
        "El nuevo estimador se define como:\n",
        "\n",
        "$$ \\hat{\\theta}_{ant} = \\frac{\\hat{\\theta}_1(r) + \\hat{\\theta}_1(1-r)}{2} $$"
      ],
      "metadata": {
        "id": "COCqVyzxl0-b"
      }
    },
    {
      "cell_type": "markdown",
      "source": [
        "##**Método Crudo**"
      ],
      "metadata": {
        "id": "3PD4DPgQnHWN"
      }
    },
    {
      "cell_type": "code",
      "source": [
        "def crudo_antitetico(n):\n",
        "    suma_r = 0\n",
        "    suma_1r = 0\n",
        "    for i in range(n):\n",
        "        r = rd.random()\n",
        "        suma_r += g(r)          # theta1(r)\n",
        "        suma_1r += g(1-r)       # theta1(1-r)\n",
        "    # Promedios individuales y combinado\n",
        "    I1 = suma_r / n\n",
        "    I2 = suma_1r / n\n",
        "    I12 = (I1 + I2) / 2\n",
        "    return I1, I2, I12"
      ],
      "metadata": {
        "id": "hozkCK3mj6f9"
      },
      "execution_count": 91,
      "outputs": []
    },
    {
      "cell_type": "code",
      "source": [
        "def evaluar_antitetico(n, repeticiones):\n",
        "    inicio_tiempo = time.time()\n",
        "\n",
        "    lista_I1 = []\n",
        "    lista_I2 = []\n",
        "    lista_I12 = []\n",
        "\n",
        "    for _ in range(repeticiones):\n",
        "        i1, i2, i12 = crudo_antitetico(n)\n",
        "        lista_I1.append(i1)\n",
        "        lista_I2.append(i2)\n",
        "        lista_I12.append(i12)\n",
        "\n",
        "    fin_tiempo = time.time()\n",
        "    tiempo_total = fin_tiempo - inicio_tiempo\n",
        "\n",
        "    # Medias y varianzas de cada caso\n",
        "    mu_I1, var_I1 = np.mean(lista_I1), np.var(lista_I1)\n",
        "    mu_I2, var_I2 = np.mean(lista_I2), np.var(lista_I2)\n",
        "    mu_I12, var_I12 = np.mean(lista_I12), np.var(lista_I12)\n",
        "\n",
        "    return tiempo_total, (mu_I1, var_I1), (mu_I2, var_I2), (mu_I12, var_I12)"
      ],
      "metadata": {
        "id": "Qr1xqAoxkCv0"
      },
      "execution_count": 92,
      "outputs": []
    },
    {
      "cell_type": "markdown",
      "source": [
        "##**Método Acierto y error**"
      ],
      "metadata": {
        "id": "Pxu3Hg3aANmS"
      }
    },
    {
      "cell_type": "code",
      "source": [
        "def aciertoerror_antitetico(n):\n",
        "    aciertos_r = 0\n",
        "    aciertos_1r = 0\n",
        "    for i in range(n):\n",
        "        x = rd.random()\n",
        "        y = rd.random()\n",
        "        # Usamos r\n",
        "        if y <= g(x):\n",
        "            aciertos_r += 1\n",
        "        # Usamos 1-r\n",
        "        if y <= g(1-x):\n",
        "            aciertos_1r += 1\n",
        "    I1 = aciertos_r / n\n",
        "    I2 = aciertos_1r / n\n",
        "    I12 = (I1 + I2) / 2\n",
        "    return I1, I2, I12"
      ],
      "metadata": {
        "id": "_ub8CkG5ooVl"
      },
      "execution_count": 93,
      "outputs": []
    },
    {
      "cell_type": "code",
      "source": [
        "def evaluar_aciertoerror_antitetico(n, repeticiones):\n",
        "    inicio_tiempo = time.time()\n",
        "\n",
        "    lista_I1 = []\n",
        "    lista_I2 = []\n",
        "    lista_I12 = []\n",
        "\n",
        "    for _ in range(repeticiones):\n",
        "        i1, i2, i12 = aciertoerror_antitetico(n)\n",
        "        lista_I1.append(i1)\n",
        "        lista_I2.append(i2)\n",
        "        lista_I12.append(i12)\n",
        "\n",
        "    fin_tiempo = time.time()\n",
        "    tiempo_total = fin_tiempo - inicio_tiempo\n",
        "\n",
        "    mu_I1, var_I1 = np.mean(lista_I1), np.var(lista_I1)\n",
        "    mu_I2, var_I2 = np.mean(lista_I2), np.var(lista_I2)\n",
        "    mu_I12, var_I12 = np.mean(lista_I12), np.var(lista_I12)\n",
        "\n",
        "    return tiempo_total, (mu_I1, var_I1), (mu_I2, var_I2), (mu_I12, var_I12)"
      ],
      "metadata": {
        "id": "yXrhwy37opk0"
      },
      "execution_count": 94,
      "outputs": []
    },
    {
      "cell_type": "markdown",
      "source": [],
      "metadata": {
        "id": "dMwYv24TnTvj"
      }
    },
    {
      "cell_type": "code",
      "source": [
        "t_crudo, C1, C2, C12 = evaluar_antitetico(n, repeticiones) # Evaluamos crudo\n",
        "\n",
        "t_acierto, A1, A2, A12 = evaluar_aciertoerror_antitetico(n, repeticiones) # Evaluamos acierto-error"
      ],
      "metadata": {
        "id": "w4atEDQ3nXYT"
      },
      "execution_count": 95,
      "outputs": []
    },
    {
      "cell_type": "markdown",
      "source": [
        "Al repetir muchas veces los experimentos obtenemos tres estimadores:\n",
        "\n",
        "- **theta1(r):** usando solo \\(r\\).  \n",
        "- **theta1(1-r):** usando solo \\(1-r\\).  \n",
        "- **Antitético:** combinación de ambos.  \n",
        "\n",
        "Los tres dan aproximadamente la misma media (cercana al valor real de la integral), pero el **antitético tiene menor varianza**.  \n",
        "\n",
        "- La media estimada no cambia.  \n",
        "- Pero el resultado es más **estable** entre repeticiones.  "
      ],
      "metadata": {
        "id": "wBJetQhMt2LT"
      }
    },
    {
      "cell_type": "code",
      "source": [
        "print(\"   Método        Estimador       Media        Varianza\")\n",
        "print(\"---------------------------------------------------------------\")\n",
        "print(f\"  Crudo         theta1(r)     {C1[0]:.6f}    {C1[1]:.6f}\")\n",
        "print(f\"  Crudo         theta1(1-r)   {C2[0]:.6f}    {C2[1]:.6f}\")\n",
        "print(f\"  Crudo         Antitético    {C12[0]:.6f}    {C12[1]:.6f}\")\n",
        "print(\"---------------------------------------------------------------\")\n",
        "print(f\"  Acierto-Err   theta1(r)     {A1[0]:.6f}    {A1[1]:.6f}\")\n",
        "print(f\"  Acierto-Err   theta1(1-r)   {A2[0]:.6f}    {A2[1]:.6f}\")\n",
        "print(f\"  Acierto-Err   Antitético    {A12[0]:.6f}    {A12[1]:.6f}\")\n",
        "print(\"===============================================================\")\n",
        "print(f\"Tiempo Crudo: {t_crudo:.4f} seg\")\n",
        "print(f\"Tiempo Acierto-Error: {t_acierto:.4f} seg\")"
      ],
      "metadata": {
        "colab": {
          "base_uri": "https://localhost:8080/"
        },
        "id": "Q_1duqAonUIO",
        "outputId": "a3f42da2-2c4b-4a7d-80d5-28d8698d0c44"
      },
      "execution_count": 96,
      "outputs": [
        {
          "output_type": "stream",
          "name": "stdout",
          "text": [
            "   Método        Estimador       Media        Varianza\n",
            "---------------------------------------------------------------\n",
            "  Crudo         theta1(r)     0.630288    0.000007\n",
            "  Crudo         theta1(1-r)   0.629468    0.000006\n",
            "  Crudo         Antitético    0.629878    0.000001\n",
            "---------------------------------------------------------------\n",
            "  Acierto-Err   theta1(r)     0.630364    0.000043\n",
            "  Acierto-Err   theta1(1-r)   0.630896    0.000042\n",
            "  Acierto-Err   Antitético    0.630630    0.000026\n",
            "===============================================================\n",
            "Tiempo Crudo: 1.0621 seg\n",
            "Tiempo Acierto-Error: 1.0717 seg\n"
          ]
        }
      ]
    },
    {
      "cell_type": "markdown",
      "source": [
        "El método de Monte Carlo nos permite aproximar integrales complicadas mediante simulaciones aleatorias.  \n",
        "\n",
        "- La versión **cruda** es directa, pero ruidosa.  \n",
        "- La versión de **acierto y error** es intuitiva (área bajo la curva), aunque menos eficiente.  \n",
        "- El uso de **variables antitéticas** mejora la precisión reduciendo la varianza sin necesidad de aumentar \\(n\\).  \n",
        "\n",
        "La media sigue siendo la misma, pero el estimador antitético es “más confiable” porque varía menos entre experimentos."
      ],
      "metadata": {
        "id": "ABHUo8tbt-hL"
      }
    }
  ]
}