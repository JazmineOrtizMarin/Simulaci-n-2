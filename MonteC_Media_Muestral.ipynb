{
  "nbformat": 4,
  "nbformat_minor": 0,
  "metadata": {
    "colab": {
      "provenance": [],
      "authorship_tag": "ABX9TyOYpzX1RpWEMjyEoDx0RGlp",
      "include_colab_link": true
    },
    "kernelspec": {
      "name": "python3",
      "display_name": "Python 3"
    },
    "language_info": {
      "name": "python"
    }
  },
  "cells": [
    {
      "cell_type": "markdown",
      "metadata": {
        "id": "view-in-github",
        "colab_type": "text"
      },
      "source": [
        "<a href=\"https://colab.research.google.com/github/JazmineOrtizMarin/Simulaci-n-2/blob/main/MonteC_Media_Muestral.ipynb\" target=\"_parent\"><img src=\"https://colab.research.google.com/assets/colab-badge.svg\" alt=\"Open In Colab\"/></a>"
      ]
    },
    {
      "cell_type": "markdown",
      "source": [
        "Método de Monte Carlo de la Media Muestral\n",
        "\n",
        "Ejemplo con g(x) = sqrt(arctan(x)) en [a,b]=[0,1]"
      ],
      "metadata": {
        "id": "Uza5fza3GxYy"
      }
    },
    {
      "cell_type": "code",
      "execution_count": 20,
      "metadata": {
        "id": "vGC_cLflsUhm"
      },
      "outputs": [],
      "source": [
        "import numpy as np\n",
        "import matplotlib.pyplot as plt\n",
        "import random as rd"
      ]
    },
    {
      "cell_type": "code",
      "source": [
        "def g(x):\n",
        "  return np.sqrt(np.arctan(x))\n",
        "\n",
        "def theta2_media_muestral(a, b , N):\n",
        "\n",
        "  \"\"\"\n",
        "  1) Generar U_i ~ Unif(0,1) (i=1..N)\n",
        "  2) X_i = a + U_i (b-a)\n",
        "  3) Evaluar g(X_i)\n",
        "  4) Theta_2 = (b-a)/N * sum g(X_i)\n",
        "  \"\"\"\n",
        "\n",
        "  suma = 0.0\n",
        "  for i in range (N):\n",
        "    u = rd.random() # Paso 1\n",
        "    x = a+u*(b-a)   # Paso 2\n",
        "    gx = g(x)       # Paso 3\n",
        "    suma += gx\n",
        "  theta2 = (b-a)*(suma/N) # Paso 4\n",
        "  return theta2\n",
        "\n",
        "# Probamos con varios tamaños de muestra\n",
        "a, b = 0.0, 1.0\n",
        "rd.seed(12345)\n",
        "\n",
        "for N in [1_000, 10_000, 100_000]:\n",
        "  est = theta2_media_muestral(a, b, N)\n",
        "  print(f\"N={N:>6,d}  ->  Theta_2 ≈ {est:.6f}\")"
      ],
      "metadata": {
        "id": "kS71yyeNLuDn",
        "outputId": "3a4364fd-7d4e-4099-da76-93eaed61be1f",
        "colab": {
          "base_uri": "https://localhost:8080/"
        }
      },
      "execution_count": 28,
      "outputs": [
        {
          "output_type": "stream",
          "name": "stdout",
          "text": [
            "N= 1,000  ->  Theta_2 ≈ 0.620302\n",
            "N=10,000  ->  Theta_2 ≈ 0.628020\n",
            "N=100,000  ->  Theta_2 ≈ 0.629100\n"
          ]
        }
      ]
    },
    {
      "cell_type": "code",
      "source": [
        "def mc_crudo(N):\n",
        "  lista=[]\n",
        "  for i in range (N):\n",
        "    #u=rd.random()\n",
        "    lista.append(g(u))\n",
        "  return np.mean(lista)"
      ],
      "metadata": {
        "id": "_8U3rOngTCiE"
      },
      "execution_count": 33,
      "outputs": []
    },
    {
      "cell_type": "code",
      "source": [
        "L=[]\n",
        "for i in range (M):\n",
        "  x=mc_crudo(i)\n",
        "  L.append(x)"
      ],
      "metadata": {
        "id": "NjoaVuYAWLbT",
        "outputId": "50c8136b-4350-45a9-c168-296c184560a9",
        "colab": {
          "base_uri": "https://localhost:8080/",
          "height": 193
        }
      },
      "execution_count": 32,
      "outputs": [
        {
          "output_type": "error",
          "ename": "NameError",
          "evalue": "name 'M' is not defined",
          "traceback": [
            "\u001b[0;31m---------------------------------------------------------------------------\u001b[0m",
            "\u001b[0;31mNameError\u001b[0m                                 Traceback (most recent call last)",
            "\u001b[0;32m/tmp/ipython-input-2311137539.py\u001b[0m in \u001b[0;36m<cell line: 0>\u001b[0;34m()\u001b[0m\n\u001b[1;32m      1\u001b[0m \u001b[0mL\u001b[0m\u001b[0;34m=\u001b[0m\u001b[0;34m[\u001b[0m\u001b[0;34m]\u001b[0m\u001b[0;34m\u001b[0m\u001b[0;34m\u001b[0m\u001b[0m\n\u001b[0;32m----> 2\u001b[0;31m \u001b[0;32mfor\u001b[0m \u001b[0mi\u001b[0m \u001b[0;32min\u001b[0m \u001b[0mrange\u001b[0m \u001b[0;34m(\u001b[0m\u001b[0mM\u001b[0m\u001b[0;34m)\u001b[0m\u001b[0;34m:\u001b[0m\u001b[0;34m\u001b[0m\u001b[0;34m\u001b[0m\u001b[0m\n\u001b[0m\u001b[1;32m      3\u001b[0m   \u001b[0mx\u001b[0m\u001b[0;34m=\u001b[0m\u001b[0mmc_crudo\u001b[0m\u001b[0;34m(\u001b[0m\u001b[0mi\u001b[0m\u001b[0;34m)\u001b[0m\u001b[0;34m\u001b[0m\u001b[0;34m\u001b[0m\u001b[0m\n\u001b[1;32m      4\u001b[0m   \u001b[0mL\u001b[0m\u001b[0;34m.\u001b[0m\u001b[0mappend\u001b[0m\u001b[0;34m(\u001b[0m\u001b[0mx\u001b[0m\u001b[0;34m)\u001b[0m\u001b[0;34m\u001b[0m\u001b[0;34m\u001b[0m\u001b[0m\n",
            "\u001b[0;31mNameError\u001b[0m: name 'M' is not defined"
          ]
        }
      ]
    }
  ]
}