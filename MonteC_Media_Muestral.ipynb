{
  "nbformat": 4,
  "nbformat_minor": 0,
  "metadata": {
    "colab": {
      "provenance": [],
      "authorship_tag": "ABX9TyPXO+7MRhhivCchpaO11hyF",
      "include_colab_link": true
    },
    "kernelspec": {
      "name": "python3",
      "display_name": "Python 3"
    },
    "language_info": {
      "name": "python"
    }
  },
  "cells": [
    {
      "cell_type": "markdown",
      "metadata": {
        "id": "view-in-github",
        "colab_type": "text"
      },
      "source": [
        "<a href=\"https://colab.research.google.com/github/JazmineOrtizMarin/Simulaci-n-2/blob/main/MonteC_Media_Muestral.ipynb\" target=\"_parent\"><img src=\"https://colab.research.google.com/assets/colab-badge.svg\" alt=\"Open In Colab\"/></a>"
      ]
    },
    {
      "cell_type": "markdown",
      "source": [
        "Método de Monte Carlo de la Media Muestral\n",
        "\n",
        "Ejemplo con g(x) = sqrt(arctan(x)) en [a,b]=[0,1]"
      ],
      "metadata": {
        "id": "Uza5fza3GxYy"
      }
    },
    {
      "cell_type": "code",
      "execution_count": 20,
      "metadata": {
        "id": "vGC_cLflsUhm"
      },
      "outputs": [],
      "source": [
        "import numpy as np\n",
        "import matplotlib.pyplot as plt\n",
        "import random as rd"
      ]
    },
    {
      "cell_type": "code",
      "source": [
        "def g(x):\n",
        "  return np.sqrt(np.arctan(x))\n",
        "\n",
        "def theta2_media_muestral(a, b , N):\n",
        "\n",
        "  \"\"\"\n",
        "  1) Generar U_i ~ Unif(0,1) (i=1..N)\n",
        "  2) X_i = a + U_i (b-a)\n",
        "  3) Evaluar g(X_i)\n",
        "  4) Theta_2 = (b-a)/N * sum g(X_i)\n",
        "  \"\"\"\n",
        "\n",
        "  suma = 0.0\n",
        "  for i in range (N):\n",
        "    u = rd.random() # Paso 1\n",
        "    x = a+u*(b-a)   # Paso 2\n",
        "    gx = g(x)       # Paso 3\n",
        "    suma += gx\n",
        "  theta2 = (b-a)*(suma/N) # Paso 4\n",
        "  return theta2\n",
        "\n",
        "# Probamos con varios tamaños de muestra\n",
        "a, b = 0.0, 1.0\n",
        "rd.seed(12345)\n",
        "\n",
        "for N in [1_000, 10_000, 100_000]:\n",
        "  est = theta2_media_muestral(a, b, N)\n",
        "  print(f\"N={N:>6,d}  ->  Theta_2 ≈ {est:.6f}\")"
      ],
      "metadata": {
        "id": "kS71yyeNLuDn",
        "outputId": "3a4364fd-7d4e-4099-da76-93eaed61be1f",
        "colab": {
          "base_uri": "https://localhost:8080/"
        }
      },
      "execution_count": 28,
      "outputs": [
        {
          "output_type": "stream",
          "name": "stdout",
          "text": [
            "N= 1,000  ->  Theta_2 ≈ 0.620302\n",
            "N=10,000  ->  Theta_2 ≈ 0.628020\n",
            "N=100,000  ->  Theta_2 ≈ 0.629100\n"
          ]
        }
      ]
    }
  ]
}