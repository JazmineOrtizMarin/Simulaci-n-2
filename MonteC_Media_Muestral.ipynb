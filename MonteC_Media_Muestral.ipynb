{
  "nbformat": 4,
  "nbformat_minor": 0,
  "metadata": {
    "colab": {
      "provenance": [],
      "authorship_tag": "ABX9TyM0LewvsK5Y0Gzyn6emSIhA",
      "include_colab_link": true
    },
    "kernelspec": {
      "name": "python3",
      "display_name": "Python 3"
    },
    "language_info": {
      "name": "python"
    }
  },
  "cells": [
    {
      "cell_type": "markdown",
      "metadata": {
        "id": "view-in-github",
        "colab_type": "text"
      },
      "source": [
        "<a href=\"https://colab.research.google.com/github/JazmineOrtizMarin/Simulaci-n-2/blob/main/MonteC_Media_Muestral.ipynb\" target=\"_parent\"><img src=\"https://colab.research.google.com/assets/colab-badge.svg\" alt=\"Open In Colab\"/></a>"
      ]
    },
    {
      "cell_type": "markdown",
      "source": [
        "Método de Monte Carlo de la Media Muestral\n",
        "\n",
        "Ejemplo con g(x) = sqrt(arctan(x)) en [a,b]=[0,1]*"
      ],
      "metadata": {
        "id": "Uza5fza3GxYy"
      }
    },
    {
      "cell_type": "code",
      "execution_count": 2,
      "metadata": {
        "id": "vGC_cLflsUhm"
      },
      "outputs": [],
      "source": [
        "import numpy as np"
      ]
    },
    {
      "cell_type": "code",
      "source": [
        "def g(x):\n",
        "  return np.sqrt(np.arctan(x))\n",
        "\n",
        "def theta2_media_muestral(g, a, b, N, seed=None):\n",
        "  \"\"\"\n",
        "  1) Generar U_i ~ Unif(0,1) (i=1..N)\n",
        "  2) X_i = a + U_i (b-a)\n",
        "  3) Evaluar g(X_i)\n",
        "  4) Theta_2 = (b-a)/N * sum g(X_i)\n",
        "  \"\"\"\n",
        "  rng = np.random.default_rng(seed)\n",
        "  U = rng.random(N)                  # Paso 1\n",
        "  X = a + U * (b - a)                # Paso 2\n",
        "  GX = g(X)                          # Paso 3\n",
        "  theta2 = (b - a) * GX.mean()       # Paso 4\n",
        "  return theta2\n",
        "a, b = 0.0, 1.0\n",
        "for N in [1_000, 10_000, 100_000]:\n",
        "  est = theta2_media_muestral(g, a, b, N, seed=42)  # semilla\n",
        "  print(f\"N={N:>6,d}  ->  Theta_2 ≈ {est:.6f}\")"
      ],
      "metadata": {
        "colab": {
          "base_uri": "https://localhost:8080/"
        },
        "id": "Y-CJT6ckz1hu",
        "outputId": "126f36a6-a575-4429-bb7b-0da35b4cf47f"
      },
      "execution_count": 3,
      "outputs": [
        {
          "output_type": "stream",
          "name": "stdout",
          "text": [
            "N= 1,000  ->  Theta_2 ≈ 0.626893\n",
            "N=10,000  ->  Theta_2 ≈ 0.628101\n",
            "N=100,000  ->  Theta_2 ≈ 0.630228\n"
          ]
        }
      ]
    }
  ]
}