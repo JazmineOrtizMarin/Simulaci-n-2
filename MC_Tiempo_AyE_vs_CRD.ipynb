{
  "nbformat": 4,
  "nbformat_minor": 0,
  "metadata": {
    "colab": {
      "provenance": [],
      "authorship_tag": "ABX9TyM/hLJrKrCdWDCzpxxbCRNr",
      "include_colab_link": true
    },
    "kernelspec": {
      "name": "python3",
      "display_name": "Python 3"
    },
    "language_info": {
      "name": "python"
    }
  },
  "cells": [
    {
      "cell_type": "markdown",
      "metadata": {
        "id": "view-in-github",
        "colab_type": "text"
      },
      "source": [
        "<a href=\"https://colab.research.google.com/github/JazmineOrtizMarin/Simulaci-n-2/blob/main/MC_Tiempo_AyE_vs_CRD.ipynb\" target=\"_parent\"><img src=\"https://colab.research.google.com/assets/colab-badge.svg\" alt=\"Open In Colab\"/></a>"
      ]
    },
    {
      "cell_type": "markdown",
      "source": [
        "**Análisis de Eficiencia.**\n",
        "\n",
        "El objetivo es comparar la eficiencia computacional de dos métodos de integración por Monte Carlo para estimar el valor de la integral en el intervalo [0,1] de la función: $$ g(x)=\\sqrt{\\arctan(x)} $$\n",
        "Los métodos comoparados fueron:\n",
        "\n",
        "\n",
        "1.   Acierto y Error (Hit-or-Miss)\n",
        "2.   Monte Carlo Crudo (Mean Value)\n",
        "\n",
        "La comparación se basó en una métrica de eficiencia que combina el tiempo de ejecución con la varianza de los resultados.\n",
        "\n"
      ],
      "metadata": {
        "id": "XeZA_2PrKhMd"
      }
    },
    {
      "cell_type": "code",
      "execution_count": 73,
      "metadata": {
        "id": "iJKPYrb5O78g"
      },
      "outputs": [],
      "source": [
        "import numpy as np\n",
        "import matplotlib.pyplot as plt\n",
        "import random as rd\n",
        "import time"
      ]
    },
    {
      "cell_type": "code",
      "source": [
        "def g(x):\n",
        "  return np.sqrt(np.arctan(x))"
      ],
      "metadata": {
        "id": "Ay1QenqsZK9f"
      },
      "execution_count": 74,
      "outputs": []
    },
    {
      "cell_type": "markdown",
      "source": [
        "Hacemos el experimemnto con 30,000 puntos."
      ],
      "metadata": {
        "id": "35SXQCSRh9h2"
      }
    },
    {
      "cell_type": "code",
      "source": [
        "n = 30000 # Puntos usados para la estimación. Se usará la misma n para ambos métodos\n",
        "r = 50 # Número de repeticiones"
      ],
      "metadata": {
        "id": "1e_ip55IJcy8"
      },
      "execution_count": 75,
      "outputs": []
    },
    {
      "cell_type": "markdown",
      "source": [
        "**1. Monte Carlo: Acierto y Error**\n",
        "\n",
        "Para evaluar este método necesitábamos medir su consistencia y su costo computacional."
      ],
      "metadata": {
        "id": "KzN3vyHNQUgT"
      }
    },
    {
      "cell_type": "code",
      "source": [
        "def estimacion_1(n):\n",
        "  aciertos=0\n",
        "  for i in range (n):\n",
        "    x = rd.random()\n",
        "    y = rd.random()\n",
        "    if y <= g(x):\n",
        "      aciertos+=1\n",
        "  I=aciertos/n\n",
        "  return I"
      ],
      "metadata": {
        "id": "gJc7My0uZSdY"
      },
      "execution_count": 76,
      "outputs": []
    },
    {
      "cell_type": "markdown",
      "source": [
        "Creamos una función \"envoltorio\" `(evaluar_acierto_y_error)` que ejecutó la simulación principal `(estimacion_1)` un total de 50 veces."
      ],
      "metadata": {
        "id": "DlevbvT-_h0K"
      }
    },
    {
      "cell_type": "code",
      "source": [
        "def evaluar_acierto_y_error(n_puntos, repeticiones=r):\n",
        "  inicio_tiempo = time.time() # Es para iniciar el cronómetro antes del bucle\n",
        "  lista_resultados = [] # Arreglo para guardar los 50 resultados\n",
        "\n",
        "  for _ in range(repeticiones): # Para llamar a la función 50 veces\n",
        "    resultado = estimacion_1(n_puntos)\n",
        "    lista_resultados.append(resultado)\n",
        "\n",
        "  fin_tiempo = time.time() # Detiene el tiempo al terminar el bucle\n",
        "  tiempo_total = fin_tiempo - inicio_tiempo\n",
        "\n",
        "  varianza_resultados = np.var(lista_resultados) # Calcula la varianza de todos los resultados obtenidos\n",
        "  promedio_resultados = np.mean(lista_resultados) # Este es el promedio de la estimación\n",
        "\n",
        "  return tiempo_total, varianza_resultados, promedio_resultados"
      ],
      "metadata": {
        "id": "RLfOhAxbvsnF"
      },
      "execution_count": 77,
      "outputs": []
    },
    {
      "cell_type": "code",
      "source": [
        "t_1, var_1, prom_1 = evaluar_acierto_y_error(n)"
      ],
      "metadata": {
        "id": "A35KqKppGa8L"
      },
      "execution_count": 78,
      "outputs": []
    },
    {
      "cell_type": "code",
      "source": [
        "print(f\"Acierto y Error ({r} ejecuciones):\", \"\\n-----------------------------------\")\n",
        "print(f\"Tiempo de ejecución (t_1): {t_1:.5f}s\")\n",
        "print(f\"Varianza (var_Theta_1): {var_1:.8f}\")\n",
        "print(f\"Promedio de la estimación: {prom_1:.8f}\")"
      ],
      "metadata": {
        "colab": {
          "base_uri": "https://localhost:8080/"
        },
        "id": "cHA-gM4HCyq8",
        "outputId": "d7007349-3b86-4e88-9a86-8034d4615792"
      },
      "execution_count": 79,
      "outputs": [
        {
          "output_type": "stream",
          "name": "stdout",
          "text": [
            "Acierto y Error (50 ejecuciones): \n",
            "-----------------------------------\n",
            "Tiempo de ejecución (t_1): 3.17111s\n",
            "Varianza (var_Theta_1): 0.00000472\n",
            "Promedio de la estimación: 0.62965333\n"
          ]
        }
      ]
    },
    {
      "cell_type": "markdown",
      "source": [
        "**2. Monte Carlo: Crudo**\n",
        "\n",
        "Se siguió un procedimiento idéntico para el segundo método."
      ],
      "metadata": {
        "id": "rvDh6dMiSNHb"
      }
    },
    {
      "cell_type": "code",
      "source": [
        "def crudo(n):\n",
        "  G=[]\n",
        "  for i in range (n):\n",
        "    u=rd.random()\n",
        "    G.append(g(u))\n",
        "  return np.mean(G), np.var(G), np.std(G), G"
      ],
      "metadata": {
        "id": "WdPbAqZ5SQ5y"
      },
      "execution_count": 80,
      "outputs": []
    },
    {
      "cell_type": "markdown",
      "source": [
        "Se implementó otra función envoltorio `(evaluar_crudo)` para ejecutar la simulación crudo 50 veces."
      ],
      "metadata": {
        "id": "7A05_ss1Xa64"
      }
    },
    {
      "cell_type": "code",
      "source": [
        "def evaluar_crudo(n_puntos, repeticiones=r):\n",
        "  inicio_tiempo = time.time()\n",
        "  lista_de_medias = []\n",
        "\n",
        "  for _ in range(repeticiones):\n",
        "    resultado_completo = crudo(n_puntos) # La función devuelve una tupla\n",
        "    estimacion_integral = resultado_completo[0] # De esa tupla, solo nos interesa el primer elemento [0]\n",
        "    lista_de_medias.append(estimacion_integral)\n",
        "\n",
        "  fin_tiempo = time.time() # Funciona igual que el anterior.\n",
        "  tiempo_total = fin_tiempo - inicio_tiempo\n",
        "\n",
        "  varianza_de_medias = np.var(lista_de_medias) # La guardamos en una lista\n",
        "  promedio_de_medias = np.mean(lista_de_medias) # El promedio de la estimación\n",
        "\n",
        "  return tiempo_total, varianza_de_medias, promedio_de_medias"
      ],
      "metadata": {
        "id": "lvGUaUEXY9Sv"
      },
      "execution_count": 81,
      "outputs": []
    },
    {
      "cell_type": "code",
      "source": [
        "t_2, var_2, prom_2 = evaluar_crudo(n)"
      ],
      "metadata": {
        "id": "uLf1OBcZGgcr"
      },
      "execution_count": 70,
      "outputs": []
    },
    {
      "cell_type": "code",
      "source": [
        "print(f\"Crudo ({r} ejecuciones):\", \"\\n-----------------------------------\")\n",
        "print(f\"Tiempo de ejecución (t_2): {t_2:.5f}s\")\n",
        "print(f\"Varianza (var_Theta_2): {var_2:.8f}\")\n",
        "print(f\"Promedio de la estimación: {prom_2:.8f}\")"
      ],
      "metadata": {
        "colab": {
          "base_uri": "https://localhost:8080/"
        },
        "id": "n1ewU-7wC5Ar",
        "outputId": "12b5e40b-38f3-4c77-e2f3-cbb6de1897b3"
      },
      "execution_count": 71,
      "outputs": [
        {
          "output_type": "stream",
          "name": "stdout",
          "text": [
            "Crudo (100 ejecuciones): \n",
            "-----------------------------------\n",
            "Tiempo de ejecución (t_2): 8.00673s\n",
            "Varianza (var_Theta_2): 0.00000176\n",
            "Promedio de la estimación: 0.62954052\n"
          ]
        }
      ]
    },
    {
      "cell_type": "markdown",
      "source": [
        "**EFICIENCIA**"
      ],
      "metadata": {
        "id": "1ZFB_P9iDHsU"
      }
    },
    {
      "cell_type": "code",
      "source": [
        "E = (t_1 * var_1) / (t_2 * var_2) # Fórmula de la eficiencia\n",
        "\n",
        "print(\"--- Comparación: ---\")\n",
        "print(f\"\\nValores de Acierto y Error: t_1={t_1:.4f} s, var_1={var_1:.8f}\")\n",
        "print(f\"Valores del método Crudo:   t_2={t_2:.4f} s, var_2={var_2:.8f}\")\n",
        "\n",
        "print(f\"\\nEficiencia calculada (E): {E:.4f}\")\n",
        "if E < 1:\n",
        "  print(\"El método de Acierto y Error es más eficiente.\")\n",
        "elif E > 1:\n",
        "  print(\"El método Crudo es más eficiente.\")\n",
        "else:\n",
        "  print(\"Ambos métodos tienen una eficiencia equivalente.\")"
      ],
      "metadata": {
        "colab": {
          "base_uri": "https://localhost:8080/"
        },
        "id": "zQHkO7g_DfcM",
        "outputId": "15b131b5-ee76-4f0f-d67d-938a57e98d28"
      },
      "execution_count": 72,
      "outputs": [
        {
          "output_type": "stream",
          "name": "stdout",
          "text": [
            "--- Comparación: ---\n",
            "\n",
            "Valores de Acierto y Error: t_1=6.2880 s, var_1=0.00000985\n",
            "Valores del método Crudo:   t_2=8.0067 s, var_2=0.00000176\n",
            "\n",
            "Eficiencia calculada (E): 4.3960\n",
            "El método Crudo es más eficiente.\n"
          ]
        }
      ]
    },
    {
      "cell_type": "markdown",
      "source": [
        "Para la mayoría de las funciones de una dimensión, como la que analizamos, teóricamente se espera que el método Crudo sea más eficiente. Esto se debe a que el método de Acierto y Error \"desperdicia\" muchos cálculos en puntos que caen fuera del área de interés (los \"misses\"), mientras que el método Crudo aprovecha el 100% de los puntos generados. Por lo tanto, era más probable que el resultado del experimento fuera `E > 1`"
      ],
      "metadata": {
        "id": "htwbsJcyS5hD"
      }
    }
  ]
}