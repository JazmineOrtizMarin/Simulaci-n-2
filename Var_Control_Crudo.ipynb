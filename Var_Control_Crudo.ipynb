{
  "nbformat": 4,
  "nbformat_minor": 0,
  "metadata": {
    "colab": {
      "provenance": [],
      "include_colab_link": true
    },
    "kernelspec": {
      "name": "python3",
      "display_name": "Python 3"
    },
    "language_info": {
      "name": "python"
    }
  },
  "cells": [
    {
      "cell_type": "markdown",
      "metadata": {
        "id": "view-in-github",
        "colab_type": "text"
      },
      "source": [
        "<a href=\"https://colab.research.google.com/github/JazmineOrtizMarin/Simulaci-n-2/blob/main/Var_Control_Crudo.ipynb\" target=\"_parent\"><img src=\"https://colab.research.google.com/assets/colab-badge.svg\" alt=\"Open In Colab\"/></a>"
      ]
    },
    {
      "cell_type": "markdown",
      "source": [
        "## **Variables de Control**\n",
        "\n",
        "Aplicamos el método de **variables de control** para reducir la varianza en una estimación Monte Carlo de la integral:\n",
        "\n",
        "$$ I = \\int_0^1 \\frac{1}{1+x^2} \\, dx. $$\n",
        "\n",
        "El valor real de esta integral es:\n",
        "\n",
        "$$ I = \\frac{\\pi}{4} \\approx 0.785398. $$"
      ],
      "metadata": {
        "id": "YMpAEuenGCcI"
      }
    },
    {
      "cell_type": "code",
      "execution_count": 15,
      "metadata": {
        "id": "OSzhcg6rF1FX"
      },
      "outputs": [],
      "source": [
        "# Librerías\n",
        "import numpy as np\n",
        "import random as rd"
      ]
    },
    {
      "cell_type": "code",
      "source": [
        "# Función\n",
        "def g(x):\n",
        "  return 1 / (1 + x**2)"
      ],
      "metadata": {
        "id": "eFIHtQZtGeQ3"
      },
      "execution_count": 16,
      "outputs": []
    },
    {
      "cell_type": "code",
      "source": [
        "n = 1000\n",
        "r = 50"
      ],
      "metadata": {
        "id": "MdYBbg83ND-w"
      },
      "execution_count": 17,
      "outputs": []
    },
    {
      "cell_type": "markdown",
      "source": [
        "En el método crudo generamos números aleatorios $$U_i \\sim \\text{Unif}(0,1)$$ y evaluamos la función\n",
        "\n",
        "$$\n",
        "g(u_i) = \\frac{1}{1+u_i^2}.\n",
        "$$\n",
        "\n",
        "El estimador base es:\n",
        "\n",
        "$$X = \\frac{1}{n} \\sum_{i=1}^{n} g(U_i)$$\n",
        "\n",
        "Cuando **n** crece, **X** converge al valor real de la integral."
      ],
      "metadata": {
        "id": "7cjEdVZSNbtJ"
      }
    },
    {
      "cell_type": "code",
      "source": [
        "# Método crudo\n",
        "def crudo(n):\n",
        "    G = []\n",
        "    for i in range(n):\n",
        "        u = rd.random()\n",
        "        G.append(g(u))\n",
        "    return np.mean(G), np.var(G), np.std(G), G"
      ],
      "metadata": {
        "id": "rH4cfjr6HVAn"
      },
      "execution_count": 18,
      "outputs": []
    },
    {
      "cell_type": "markdown",
      "source": [
        "El método de **variables de control** busca reducir la varianza del estimador sin cambiar su valor esperado.\n",
        "\n",
        "La idea es elegir una variable auxiliar **Y** que:\n",
        "- esté *correlacionada* con **X**, y\n",
        "- tenga *esperanza conocida* $$\\mu_Y = \\mathbb{E}(Y)$$\n",
        "\n",
        "Entonces definimos un nuevo estimador:\n",
        "\n",
        "$$Z = X + c \\,(Y - \\mu_Y)$$\n",
        "\n",
        "---\n",
        "\n",
        "**Propiedades:**\n",
        "- $$\\mathbb{E}[Z] = \\mathbb{E}[X]$$ → el estimador sigue siendo insesgado.  \n",
        "- La varianza de **Z** depende de **c**:\n",
        "\n",
        "$$\\mathrm{Var}(Z) = \\mathrm{Var}(X) + 2c\\,\\mathrm{Cov}(X,Y) + c^2 \\mathrm{Var}(Y$$\n",
        "\n",
        "Para minimizar esta varianza respecto a \\(c\\), derivamos y obtenemos el valor óptimo:\n",
        "\n",
        "$$\n",
        "c^* = -\\frac{\\mathrm{Cov}(X,Y)}{\\mathrm{Var}(Y)}\n",
        "$$\n",
        "\n",
        "y la varianza mínima resultante es:\n",
        "\n",
        "$$\n",
        "\\mathrm{Var}(Z) = \\mathrm{Var}(X) - \\frac{\\mathrm{Cov}(X,Y)^2}{\\mathrm{Var}(Y)}\n",
        "$$\n",
        "\n",
        "Por tanto, si **X** y **Y** están correlacionados, la varianza disminuye.\n"
      ],
      "metadata": {
        "id": "NucTerjaQAxR"
      }
    },
    {
      "cell_type": "code",
      "source": [
        "def control_variate(n, r):\n",
        "\n",
        "    estimaciones_X = []\n",
        "    estimaciones_Y = []\n",
        "    estimaciones_Z = []\n",
        "\n",
        "    for _ in range(r):\n",
        "        U = [rd.random() for _ in range(n)] # uniformes\n",
        "        X = np.mean([g(u) for u in U]) # estimador base\n",
        "        Y = np.mean(U) # variable de control\n",
        "        estimaciones_X.append(X)\n",
        "        estimaciones_Y.append(Y)\n",
        "\n",
        "    # Calculo de medias\n",
        "    mu_X = np.mean(estimaciones_X)\n",
        "    mu_Y = np.mean(estimaciones_Y)\n",
        "    var_Y = np.var(estimaciones_Y)\n",
        "    cov_XY = np.cov(estimaciones_X, estimaciones_Y, bias=True)[0,1]\n",
        "\n",
        "    # constante óptima\n",
        "    c = - cov_XY / var_Y\n",
        "\n",
        "    # estimaciones ajustadas\n",
        "    for i in range(r):\n",
        "        Z = estimaciones_X[i] + c * (estimaciones_Y[i] - 0.5)\n",
        "        estimaciones_Z.append(Z)\n",
        "\n",
        "    return {\n",
        "        \"c\": c,\n",
        "        \"media_X\": np.mean(estimaciones_X),\n",
        "        \"var_X\": np.var(estimaciones_X),\n",
        "        \"media_Z\": np.mean(estimaciones_Z),\n",
        "        \"var_Z\": np.var(estimaciones_Z)\n",
        "    }"
      ],
      "metadata": {
        "id": "uNTFVLOsHnJH"
      },
      "execution_count": 19,
      "outputs": []
    },
    {
      "cell_type": "markdown",
      "source": [
        "Usamos como variable de control:\n",
        "\n",
        "$$Y = \\frac{1}{n}\\sum_{i=1}^{n} U_i, \\quad \\text{con } \\mathbb{E}(Y) = 0.5$$\n",
        "\n",
        "Tanto **X** como **Y** se calculan con los mismos números aleatorios **U_i**.\n",
        "\n",
        "El nuevo estimador corregido es:\n",
        "\n",
        "$$Z = X + c\\,(Y - 0.5)$$\n",
        "\n",
        "---\n",
        "\n",
        "**Obtención teórica de *c***\n",
        "\n",
        "Para $$\\sim \\text{Unif}(0,1)$$, se tiene:\n",
        "\n",
        "$$\\mathbb{E}[U] = \\frac{1}{2}, \\qquad \\mathrm{Var}(U) = \\frac{1}{12}.$$\n",
        "\n",
        "Y también:\n",
        "\n",
        "$$\\mathbb{E}[f(U)] = \\int_0^1 \\frac{1}{1+u^2}\\,du = \\frac{\\pi}{4},$$\n",
        "\n",
        "$$\\mathbb{E}[U f(U)] = \\int_0^1 \\frac{u}{1+u^2}\\,du = \\frac{1}{2}\\ln(2).$$\n",
        "\n",
        "Por lo tanto,\n",
        "\n",
        "$$\\mathrm{Cov}(f(U),U) = \\mathbb{E}[U f(U)] - \\mathbb{E}[U]\\mathbb{E}[f(U)]\n",
        "= \\frac{1}{2}\\ln(2) - \\frac{\\pi}{8}.$$\n",
        "\n",
        "Y el valor óptimo de \\(c\\) resulta ser:\n",
        "\n",
        "$$c = -\\frac{\\mathrm{Cov}(X,Y)}{\\mathrm{Var}(Y)} = -12 \\,\\mathrm{Cov}(f(U),U)\n",
        "= -6\\ln(2) + \\frac{3\\pi}{2}$$\n",
        "\n",
        "Numéricamente:\n",
        "\n",
        "$$c \\approx 0.5535$$"
      ],
      "metadata": {
        "id": "PnUnAW-pZ2cd"
      }
    },
    {
      "cell_type": "code",
      "source": [
        "res = control_variate(n, r)"
      ],
      "metadata": {
        "id": "fQiCXwptIgT3"
      },
      "execution_count": 20,
      "outputs": []
    },
    {
      "cell_type": "markdown",
      "source": [
        "En el código de Python se estiman empíricamente la covarianza y la varianza:\n",
        "\n"
      ],
      "metadata": {
        "id": "vppyeBtjbHt0"
      }
    },
    {
      "cell_type": "code",
      "source": [
        "print(\"Método de Variables de Control\")\n",
        "print(\"-----------------------------------------------\")\n",
        "print(f\"Constante óptima c:          {res['c']:.10f}\")\n",
        "print(f\"Media (crudo):               {res['media_X']:.10f}\")\n",
        "print(f\"Varianza (crudo):            {res['var_X']:.10f}\")\n",
        "print(f\"Media (con control):         {res['media_Z']:.10f}\")\n",
        "print(f\"Varianza (con control):      {res['var_Z']:.10f}\")\n",
        "print(\"-----------------------------------------------\")\n",
        "print(\"Valor real de la integral:   π/4 =\", np.pi/4)"
      ],
      "metadata": {
        "colab": {
          "base_uri": "https://localhost:8080/"
        },
        "id": "UevVMbDbIpb3",
        "outputId": "60557614-4735-4c78-bc6b-0c74f30c294f"
      },
      "execution_count": 21,
      "outputs": [
        {
          "output_type": "stream",
          "name": "stdout",
          "text": [
            "Método de Variables de Control\n",
            "-----------------------------------------------\n",
            "Constante óptima c:          0.5533902107\n",
            "Media (crudo):               0.7848982469\n",
            "Varianza (crudo):            0.0000265199\n",
            "Media (con control):         0.7854190070\n",
            "Varianza (con control):      0.0000003036\n",
            "-----------------------------------------------\n",
            "Valor real de la integral:   π/4 = 0.7853981633974483\n"
          ]
        }
      ]
    }
  ]
}