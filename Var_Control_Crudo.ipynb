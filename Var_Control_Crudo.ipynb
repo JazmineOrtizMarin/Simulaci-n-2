{
  "nbformat": 4,
  "nbformat_minor": 0,
  "metadata": {
    "colab": {
      "provenance": [],
      "authorship_tag": "ABX9TyMCZwLMY0MZfHVvmzTKssmo",
      "include_colab_link": true
    },
    "kernelspec": {
      "name": "python3",
      "display_name": "Python 3"
    },
    "language_info": {
      "name": "python"
    }
  },
  "cells": [
    {
      "cell_type": "markdown",
      "metadata": {
        "id": "view-in-github",
        "colab_type": "text"
      },
      "source": [
        "<a href=\"https://colab.research.google.com/github/JazmineOrtizMarin/Simulaci-n-2/blob/main/Var_Control_Crudo.ipynb\" target=\"_parent\"><img src=\"https://colab.research.google.com/assets/colab-badge.svg\" alt=\"Open In Colab\"/></a>"
      ]
    },
    {
      "cell_type": "markdown",
      "source": [
        "## **Variables de Control**\n",
        "\n",
        "Aplicamos el método de **variables de control** para reducir la varianza en una estimación Monte Carlo de la integral:\n",
        "\n",
        "$$ I = \\int_0^1 \\frac{1}{1+x^2} \\, dx. $$\n",
        "\n",
        "El valor real de esta integral es:\n",
        "\n",
        "$$ I = \\frac{\\pi}{4} \\approx 0.785398. $$"
      ],
      "metadata": {
        "id": "YMpAEuenGCcI"
      }
    },
    {
      "cell_type": "code",
      "execution_count": null,
      "metadata": {
        "id": "OSzhcg6rF1FX"
      },
      "outputs": [],
      "source": [
        "# Librerías\n",
        "import numpy as np\n",
        "import random as rd"
      ]
    },
    {
      "cell_type": "code",
      "source": [
        "# Función\n",
        "def g(x):\n",
        "  return 1 / (1 + x**2)"
      ],
      "metadata": {
        "id": "eFIHtQZtGeQ3"
      },
      "execution_count": null,
      "outputs": []
    },
    {
      "cell_type": "code",
      "source": [
        "n = 1000\n",
        "r = 50"
      ],
      "metadata": {
        "id": "MdYBbg83ND-w"
      },
      "execution_count": null,
      "outputs": []
    },
    {
      "cell_type": "markdown",
      "source": [
        "En el método Monte Carlo Crudo, generamos números aleatorios $$ U_i \\sim U(0,1) $$ y evaluamos:\n",
        "\n",
        "$$ \\hat{\\theta}_1 = \\frac{1}{n} \\sum_{i=1}^n g(U_i),\n",
        "\\quad \\text{donde} \\quad g(x) = \\frac{1}{1+x^2}. $$\n",
        "\n",
        "Este estimador es insesgado, pero su varianza puede ser alta.  \n",
        "Para reducirla, se introduce una variable de control **Y** que cumpla:\n",
        "\n",
        "- Está correlacionada con $$X = g(U)$$\n",
        "- Tiene una esperanza conocida $$E[Y] = \\mu_Y$$\n",
        "\n",
        "El nuevo estimador se define como:\n",
        "\n",
        "$$Z = X + c\\,(Y - \\mu_Y),$$\n",
        "\n",
        "donde \\(c\\) es una constante que se elige para minimizar la varianza de **Z**."
      ],
      "metadata": {
        "id": "7cjEdVZSNbtJ"
      }
    },
    {
      "cell_type": "code",
      "source": [
        "# Método crudo\n",
        "def crudo(n):\n",
        "    G = []\n",
        "    for i in range(n):\n",
        "        u = rd.random()\n",
        "        G.append(g(u))\n",
        "    return np.mean(G), np.var(G), np.std(G), G"
      ],
      "metadata": {
        "id": "rH4cfjr6HVAn"
      },
      "execution_count": null,
      "outputs": []
    },
    {
      "cell_type": "markdown",
      "source": [
        "En este ejercicio, elegimos como variable de control el promedio de los mismos números uniformes:\n",
        "\n",
        "$$Y = \\frac{1}{n} \\sum_{i=1}^n U_i$$\n",
        "\n",
        "porque sabemos que si $$U_i \\sim U(0,1)$$ entonces\n",
        "\n",
        "$$E[Y] = \\mu_Y = \\frac{1}{2}$$\n",
        "\n",
        "La varianza de **Z** se puede expresar como:\n",
        "\n",
        "$$\\text{Var}(Z) = \\text{Var}(X) + 2c\\,\\text{Cov}(X,Y) + c^2\\,\\text{Var}(Y)$$\n",
        "\n",
        "Minimizando respecto a **c**:\n",
        "\n",
        "$$c^* = -\\frac{\\text{Cov}(X,Y)}{\\text{Var}(Y)}$$\n",
        "\n",
        "Sustituyendo este valor se obtiene la varianza mínima alcanzable:\n",
        "\n",
        "$$\\text{Var}(Z) = \\text{Var}(X) -\n",
        "\\frac{\\text{Cov}(X,Y)^2}{\\text{Var}(Y)}$$\n",
        "\n",
        "Por lo tanto, **la varianza disminuye** siempre que exista correlación\n",
        "entre **X** y **Y**."
      ],
      "metadata": {
        "id": "bi0fole6OGpp"
      }
    },
    {
      "cell_type": "code",
      "source": [
        "def control_variate(n, r):\n",
        "\n",
        "    estimaciones_X = []\n",
        "    estimaciones_Y = []\n",
        "    estimaciones_Z = []\n",
        "\n",
        "    for _ in range(r):\n",
        "        U = [rd.random() for _ in range(n)] # uniformes\n",
        "        X = np.mean([g(u) for u in U]) # estimador base\n",
        "        Y = np.mean(U) # variable de control\n",
        "        estimaciones_X.append(X)\n",
        "        estimaciones_Y.append(Y)\n",
        "\n",
        "    # Calculo de medias\n",
        "    mu_X = np.mean(estimaciones_X)\n",
        "    mu_Y = np.mean(estimaciones_Y)\n",
        "    var_Y = np.var(estimaciones_Y)\n",
        "    cov_XY = np.cov(estimaciones_X, estimaciones_Y, bias=True)[0,1]\n",
        "\n",
        "    # constante óptima\n",
        "    c = - cov_XY / var_Y\n",
        "\n",
        "    # estimaciones ajustadas\n",
        "    for i in range(r):\n",
        "        Z = estimaciones_X[i] + c * (estimaciones_Y[i] - 0.5)\n",
        "        estimaciones_Z.append(Z)\n",
        "\n",
        "    return {\n",
        "        \"c\": c,\n",
        "        \"media_X\": np.mean(estimaciones_X),\n",
        "        \"var_X\": np.var(estimaciones_X),\n",
        "        \"media_Z\": np.mean(estimaciones_Z),\n",
        "        \"var_Z\": np.var(estimaciones_Z)\n",
        "    }"
      ],
      "metadata": {
        "id": "uNTFVLOsHnJH"
      },
      "execution_count": null,
      "outputs": []
    },
    {
      "cell_type": "markdown",
      "source": [
        "Se calculan las estimaciones crudas $$\\hat{X} \\text{ y } \\hat{Y}$$ en 50 repeticiones, se obtienen la covarianza y la varianza, y con ello se calcula el valor óptimo de **c**.\n",
        "\n",
        "Cada nueva estimación se corrige aplicando:\n",
        "\n",
        "$$\\hat{Z}_i = \\hat{X}_i + c^*(\\hat{Y}_i - 0.5)$$\n",
        "\n",
        "El promedio de las $$\\hat{Z}_i$$ será nuestro estimador con control de varianza."
      ],
      "metadata": {
        "id": "NucTerjaQAxR"
      }
    },
    {
      "cell_type": "code",
      "source": [
        "res = control_variate(n, r)"
      ],
      "metadata": {
        "id": "fQiCXwptIgT3"
      },
      "execution_count": null,
      "outputs": []
    },
    {
      "cell_type": "code",
      "source": [
        "print(\"Método de Variables de Control\")\n",
        "print(\"-----------------------------------------------\")\n",
        "print(f\"Constante óptima c:          {res['c']:.10f}\")\n",
        "print(f\"Media (crudo):               {res['media_X']:.10f}\")\n",
        "print(f\"Varianza (crudo):            {res['var_X']:.10f}\")\n",
        "print(f\"Media (con control):         {res['media_Z']:.10f}\")\n",
        "print(f\"Varianza (con control):      {res['var_Z']:.10f}\")\n",
        "print(\"-----------------------------------------------\")\n",
        "print(\"Valor real de la integral:   π/4 =\", np.pi/4)"
      ],
      "metadata": {
        "colab": {
          "base_uri": "https://localhost:8080/"
        },
        "id": "UevVMbDbIpb3",
        "outputId": "35d5d155-9af9-4972-e499-72b6c847cdd2"
      },
      "execution_count": null,
      "outputs": [
        {
          "output_type": "stream",
          "name": "stdout",
          "text": [
            "Método de Variables de Control\n",
            "-----------------------------------------------\n",
            "Constante óptima c:          0.5487514896\n",
            "Media (crudo):               0.7852933526\n",
            "Varianza (crudo):            0.0000343449\n",
            "Media (con control):         0.7855400439\n",
            "Varianza (con control):      0.0000003048\n",
            "-----------------------------------------------\n",
            "Valor real de la integral:   π/4 = 0.7853981633974483\n"
          ]
        }
      ]
    }
  ]
}