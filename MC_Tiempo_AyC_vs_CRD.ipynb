{
  "nbformat": 4,
  "nbformat_minor": 0,
  "metadata": {
    "colab": {
      "provenance": [],
      "authorship_tag": "ABX9TyNLuNw8+wVcehUKMarOGW8W",
      "include_colab_link": true
    },
    "kernelspec": {
      "name": "python3",
      "display_name": "Python 3"
    },
    "language_info": {
      "name": "python"
    }
  },
  "cells": [
    {
      "cell_type": "markdown",
      "metadata": {
        "id": "view-in-github",
        "colab_type": "text"
      },
      "source": [
        "<a href=\"https://colab.research.google.com/github/JazmineOrtizMarin/Simulaci-n-2/blob/main/MC_Tiempo_AyC_vs_CRD.ipynb\" target=\"_parent\"><img src=\"https://colab.research.google.com/assets/colab-badge.svg\" alt=\"Open In Colab\"/></a>"
      ]
    },
    {
      "cell_type": "markdown",
      "source": [
        "**Análisis de Eficiencia.**\n",
        "\n",
        "El objetivo es comparar la eficiencia computacional de dos métodos de integración por Monte Carlo para estimar el valor de la integral en el intervalo [0,1] de la función: $$ g(x)=\\sqrt{\\arctan(x)} $$\n",
        "Los métodos comoparados fueron:\n",
        "\n",
        "\n",
        "1.   Acierto y Error (Hit-or-Miss)\n",
        "2.   Monte Carlo Crudo (Mean Value)\n",
        "\n",
        "La comparación se basó en una métrica de eficiencia que combina el tiempo de ejecución con la varianza de los resultados.\n",
        "\n"
      ],
      "metadata": {
        "id": "XeZA_2PrKhMd"
      }
    },
    {
      "cell_type": "code",
      "execution_count": 209,
      "metadata": {
        "id": "iJKPYrb5O78g"
      },
      "outputs": [],
      "source": [
        "import numpy as np\n",
        "import matplotlib.pyplot as plt\n",
        "import random as rd\n",
        "import time"
      ]
    },
    {
      "cell_type": "code",
      "source": [
        "def g(x):\n",
        "  return np.sqrt(np.arctan(x))"
      ],
      "metadata": {
        "id": "Ay1QenqsZK9f"
      },
      "execution_count": 210,
      "outputs": []
    },
    {
      "cell_type": "code",
      "source": [
        "n = 10000 # Se usará la misma n para ambos métodos"
      ],
      "metadata": {
        "id": "1e_ip55IJcy8"
      },
      "execution_count": 211,
      "outputs": []
    },
    {
      "cell_type": "markdown",
      "source": [
        "**Monte Carlo: Acierto y Error**\n",
        "\n",
        "Para evaluar este método necesitábamos medir su consistencia y su costo computacional.\n",
        "\n",
        "Creamos una función \"envoltorio\" `(evaluar_acierto_y_error)` que ejecutó la simulación principal `(estimacion_1)` un total de 50 veces."
      ],
      "metadata": {
        "id": "KzN3vyHNQUgT"
      }
    },
    {
      "cell_type": "code",
      "source": [
        "def estimacion_1(n):\n",
        "  aciertos=0\n",
        "  for i in range (n):\n",
        "    x = rd.random()\n",
        "    y = rd.random()\n",
        "    if y <= g(x):\n",
        "      aciertos+=1\n",
        "  I=aciertos/n\n",
        "  return I"
      ],
      "metadata": {
        "id": "gJc7My0uZSdY"
      },
      "execution_count": 212,
      "outputs": []
    },
    {
      "cell_type": "code",
      "source": [
        "estimacion_1(1000)"
      ],
      "metadata": {
        "id": "TfMvH5Z9Z-tP",
        "outputId": "b754b364-392c-46f4-9712-e7e77ad9b6c5",
        "colab": {
          "base_uri": "https://localhost:8080/"
        }
      },
      "execution_count": 213,
      "outputs": [
        {
          "output_type": "execute_result",
          "data": {
            "text/plain": [
              "0.639"
            ]
          },
          "metadata": {},
          "execution_count": 213
        }
      ]
    },
    {
      "cell_type": "code",
      "source": [
        "def evaluar_acierto_y_error(n_puntos, repeticiones=50):\n",
        "  inicio_tiempo = time.time() # Es para iniciar el cronómetro\n",
        "  lista_resultados = [] # Arreglo para guardar los resultados\n",
        "  for _ in range(repeticiones):\n",
        "    resultado = estimacion_1(n_puntos)\n",
        "    lista_resultados.append(resultado)\n",
        "  fin_tiempo = time.time()\n",
        "  tiempo_total = fin_tiempo - inicio_tiempo\n",
        "  varianza_resultados = np.var(lista_resultados)\n",
        "  return tiempo_total, varianza_resultados"
      ],
      "metadata": {
        "id": "RLfOhAxbvsnF"
      },
      "execution_count": 214,
      "outputs": []
    },
    {
      "cell_type": "code",
      "source": [
        "t_1, var_1 = evaluar_acierto_y_error(n, repeticiones=50)"
      ],
      "metadata": {
        "id": "A35KqKppGa8L"
      },
      "execution_count": 215,
      "outputs": []
    },
    {
      "cell_type": "code",
      "source": [
        "print(f\"Acierto y Error (50 ejecuciones):\", \"\\n-----------------------------------\")\n",
        "print(f\"Tiempo de ejecución (t_1): {t_1:.5f}s\")\n",
        "print(f\"Varianza (var_Theta_1): {var_1:.8f}\")"
      ],
      "metadata": {
        "colab": {
          "base_uri": "https://localhost:8080/"
        },
        "id": "cHA-gM4HCyq8",
        "outputId": "89a6de67-0b78-4da3-a163-a31350265e8f"
      },
      "execution_count": 216,
      "outputs": [
        {
          "output_type": "stream",
          "name": "stdout",
          "text": [
            "Acierto y Error (50 ejecuciones): \n",
            "-----------------------------------\n",
            "Tiempo de ejecución (t_1): 1.08177s\n",
            "Varianza (var_Theta_1): 0.00001636\n"
          ]
        }
      ]
    },
    {
      "cell_type": "markdown",
      "source": [
        "**Monte Carlo: Crudo**"
      ],
      "metadata": {
        "id": "rvDh6dMiSNHb"
      }
    },
    {
      "cell_type": "code",
      "source": [
        "def crudo(N):\n",
        "  G=[]\n",
        "  for i in range (N):\n",
        "    u=rd.random()\n",
        "    G.append(g(u))\n",
        "  return np.mean(G), np.var(G), np.std(G), G"
      ],
      "metadata": {
        "id": "WdPbAqZ5SQ5y"
      },
      "execution_count": 217,
      "outputs": []
    },
    {
      "cell_type": "code",
      "source": [
        "e=crudo(1000)"
      ],
      "metadata": {
        "id": "3Vm3WrWy2LJ1"
      },
      "execution_count": 218,
      "outputs": []
    },
    {
      "cell_type": "markdown",
      "source": [
        "Llamamos a la función 50 veces para calcular el tiempo:\n",
        "\n"
      ],
      "metadata": {
        "id": "7A05_ss1Xa64"
      }
    },
    {
      "cell_type": "code",
      "source": [
        "def evaluar_crudo(n_puntos, repeticiones=50):\n",
        "  inicio_tiempo = time.time()\n",
        "  lista_de_medias = [] # Arreglo para guardar los resultados\n",
        "  for _ in range(repeticiones):\n",
        "    resultado_completo = crudo(n_puntos)\n",
        "    estimacion_integral = resultado_completo[0]\n",
        "    lista_de_medias.append(estimacion_integral)\n",
        "  fin_tiempo = time.time()\n",
        "  tiempo_total = fin_tiempo - inicio_tiempo\n",
        "  varianza_de_medias = np.var(lista_de_medias)\n",
        "  return tiempo_total, varianza_de_medias"
      ],
      "metadata": {
        "id": "lvGUaUEXY9Sv"
      },
      "execution_count": 219,
      "outputs": []
    },
    {
      "cell_type": "code",
      "source": [
        "t_2, var_2 = evaluar_crudo(n, repeticiones=50)"
      ],
      "metadata": {
        "id": "uLf1OBcZGgcr"
      },
      "execution_count": 220,
      "outputs": []
    },
    {
      "cell_type": "code",
      "source": [
        "print(f\"Crudo (50 ejecuciones):\", \"\\n-------------------------------------------\")\n",
        "print(f\"Tiempo de ejecución (t_2): {t_2:.5f} segundos\")\n",
        "print(f\"Varianza (var_2): {var_2:.8f}\")"
      ],
      "metadata": {
        "colab": {
          "base_uri": "https://localhost:8080/"
        },
        "id": "n1ewU-7wC5Ar",
        "outputId": "90dada90-825f-4ee7-c4eb-90d73dace1bc"
      },
      "execution_count": 221,
      "outputs": [
        {
          "output_type": "stream",
          "name": "stdout",
          "text": [
            "Crudo (50 ejecuciones): \n",
            "-------------------------------------------\n",
            "Tiempo de ejecución (t_2): 1.13993 segundos\n",
            "Varianza (var_2): 0.00000398\n"
          ]
        }
      ]
    },
    {
      "cell_type": "markdown",
      "source": [
        "**EFICIENCIA**"
      ],
      "metadata": {
        "id": "1ZFB_P9iDHsU"
      }
    },
    {
      "cell_type": "code",
      "source": [
        "try: # Avisará si ya se corrieron los bloques de código\n",
        "  E = (t_1 * var_1) / (t_2 * var_2) # Fórmula de la eficiencia\n",
        "\n",
        "  print(f\"Eficiencia calculada (E): {E:.4f}\")\n",
        "  if E < 1:\n",
        "    print(\"El método de Acierto y Error es más eficiente para este problema.\")\n",
        "  elif E > 1:\n",
        "    print(\"El método Crudo es más eficiente para este problema.\")\n",
        "  else:\n",
        "    print(\"Ambos métodos tienen una eficiencia equivalente.\")\n",
        "\n",
        "except NameError:\n",
        "  print(\"No se han ejecutado todos los bloques de código.\")\n"
      ],
      "metadata": {
        "colab": {
          "base_uri": "https://localhost:8080/"
        },
        "id": "zQHkO7g_DfcM",
        "outputId": "ea20ac9f-8477-4262-e135-be72363092e5"
      },
      "execution_count": 222,
      "outputs": [
        {
          "output_type": "stream",
          "name": "stdout",
          "text": [
            "Eficiencia calculada (E): 3.8983\n",
            "El método Crudo es más eficiente para este problema.\n"
          ]
        }
      ]
    }
  ]
}