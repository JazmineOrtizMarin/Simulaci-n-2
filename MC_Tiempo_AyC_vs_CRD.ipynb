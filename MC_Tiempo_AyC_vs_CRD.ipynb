{
  "nbformat": 4,
  "nbformat_minor": 0,
  "metadata": {
    "colab": {
      "provenance": [],
      "authorship_tag": "ABX9TyMNRytFt5fITA3Bc/IA6Jgm",
      "include_colab_link": true
    },
    "kernelspec": {
      "name": "python3",
      "display_name": "Python 3"
    },
    "language_info": {
      "name": "python"
    }
  },
  "cells": [
    {
      "cell_type": "markdown",
      "metadata": {
        "id": "view-in-github",
        "colab_type": "text"
      },
      "source": [
        "<a href=\"https://colab.research.google.com/github/JazmineOrtizMarin/Simulaci-n-2/blob/main/MC_Tiempo_AyC_vs_CRD.ipynb\" target=\"_parent\"><img src=\"https://colab.research.google.com/assets/colab-badge.svg\" alt=\"Open In Colab\"/></a>"
      ]
    },
    {
      "cell_type": "code",
      "execution_count": 8,
      "metadata": {
        "id": "iJKPYrb5O78g"
      },
      "outputs": [],
      "source": [
        "import numpy as np\n",
        "import matplotlib.pyplot as plt\n",
        "import random as rd\n",
        "import timeit"
      ]
    },
    {
      "cell_type": "code",
      "source": [
        "def g(x):\n",
        "  return np.sqrt(np.arctan(x))"
      ],
      "metadata": {
        "id": "Ay1QenqsZK9f"
      },
      "execution_count": 9,
      "outputs": []
    },
    {
      "cell_type": "markdown",
      "source": [
        "Monte Carlo: Acierto y Error"
      ],
      "metadata": {
        "id": "KzN3vyHNQUgT"
      }
    },
    {
      "cell_type": "code",
      "source": [
        "def estimacion_1(n):\n",
        "  aciertos=0\n",
        "  for i in range (n):\n",
        "    x = rd.random()\n",
        "    y = rd.random()\n",
        "\n",
        "    if y <= g(x):\n",
        "      aciertos+=1\n",
        "  I=aciertos/n\n",
        "  return I"
      ],
      "metadata": {
        "id": "gJc7My0uZSdY"
      },
      "execution_count": 12,
      "outputs": []
    },
    {
      "cell_type": "code",
      "source": [
        "estimacion_1(1000)"
      ],
      "metadata": {
        "id": "TfMvH5Z9Z-tP",
        "outputId": "41872a35-1612-4c81-816e-1caa83926f0a",
        "colab": {
          "base_uri": "https://localhost:8080/"
        }
      },
      "execution_count": 13,
      "outputs": [
        {
          "output_type": "execute_result",
          "data": {
            "text/plain": [
              "0.633"
            ]
          },
          "metadata": {},
          "execution_count": 13
        }
      ]
    },
    {
      "cell_type": "markdown",
      "source": [
        "Hacer una función que la llame 50 veces, de ahí calcular la varianza y de ahí medir el tiempo."
      ],
      "metadata": {
        "id": "U63GZvNSaIl_"
      }
    },
    {
      "cell_type": "code",
      "source": [
        "%%time\n",
        "aciertos=0\n",
        "N=10000\n",
        "\n",
        "for i in range (N):\n",
        "  x = rd.random()\n",
        "  y = rd.random()\n",
        "\n",
        "  if y <= g(x):\n",
        "    aciertos+=1\n",
        "  else:\n",
        "    aciertos+=0\n",
        "\n",
        "I=aciertos/N\n",
        "var=(aciertos/N)-(I**2)\n",
        "print(\"El valor estimado es: \",I, \"\\nVarianza: \",var)"
      ],
      "metadata": {
        "colab": {
          "base_uri": "https://localhost:8080/"
        },
        "id": "87Tm8hdlQT6r",
        "outputId": "1d5df0ae-ba26-4ac4-b2bc-d53e33d385e2"
      },
      "execution_count": 5,
      "outputs": [
        {
          "output_type": "stream",
          "name": "stdout",
          "text": [
            "El valor estimado es:  0.6309 \n",
            "Varianza:  0.23286519\n",
            "CPU times: user 19.1 ms, sys: 0 ns, total: 19.1 ms\n",
            "Wall time: 19.1 ms\n"
          ]
        }
      ]
    },
    {
      "cell_type": "markdown",
      "source": [
        "Monte Carlo: Crudo"
      ],
      "metadata": {
        "id": "rvDh6dMiSNHb"
      }
    },
    {
      "cell_type": "code",
      "source": [
        "%%time\n",
        "\n",
        "def crudo(N):\n",
        "  G=[]\n",
        "  for i in range (N):\n",
        "    u=rd.random()\n",
        "    G.append(g(u))\n",
        "  return np.mean(G), np.var(G), np.std(G), G\n",
        "\n",
        "e=crudo(10000)\n",
        "\n",
        "print(\"El valor estimado es: \", e[0], \"\\nVarianza: \", e[1])"
      ],
      "metadata": {
        "colab": {
          "base_uri": "https://localhost:8080/"
        },
        "id": "WdPbAqZ5SQ5y",
        "outputId": "fd01ce30-6b40-46fa-dc61-f5fd240596f3"
      },
      "execution_count": 10,
      "outputs": [
        {
          "output_type": "stream",
          "name": "stdout",
          "text": [
            "El valor estimado es:  0.6323026149264287 \n",
            "Varianza:  0.04227909022855156\n",
            "CPU times: user 18.5 ms, sys: 987 µs, total: 19.5 ms\n",
            "Wall time: 19.3 ms\n"
          ]
        }
      ]
    },
    {
      "cell_type": "markdown",
      "source": [
        "Tiempos de ejecución:"
      ],
      "metadata": {
        "id": "7A05_ss1Xa64"
      }
    },
    {
      "cell_type": "code",
      "source": [],
      "metadata": {
        "id": "lvGUaUEXY9Sv"
      },
      "execution_count": null,
      "outputs": []
    },
    {
      "cell_type": "code",
      "source": [
        "# Obtener los tiempos de ejecución y varianzas de las celdas anteriores\n",
        "# Para el método de Acierto y Error (celda 87Tm8hdlQT6r)\n",
        "t1 = 28.6  # Tiempo en ms\n",
        "var1 = var\n",
        "\n",
        "# Para el método Crudo (celda WdPbAqZ5SQ5y)\n",
        "t2 = 24.3  # Tiempo en ms\n",
        "var2 = e\n",
        "\n",
        "# Calcular la comparación usando la fórmula E = ((t_1 * var_1) / (t_2 * var_2))\n",
        "E = (t1 * var1) / (t2 * var2)\n",
        "\n",
        "print(f\"Tiempo de ejecución del método Acierto y Error (t1): {t1} ms\")\n",
        "print(f\"Varianza del método Acierto y Error (var1): {var1}\")\n",
        "print(f\"Tiempo de ejecución del método Crudo (t2): {t2} ms\")\n",
        "print(f\"Varianza del método Crudo (var2): {var2}\")\n",
        "print(f\"\\nValor de E = ((t1 * var1) / (t2 * var2)): {E}\")\n",
        "\n",
        "if E < 1:\n",
        "  print(\"Según la fórmula, el método Crudo es más eficiente.\")\n",
        "else:\n",
        "  print(\"Según la fórmula, el método Acierto y Error es más eficiente o similar.\")"
      ],
      "metadata": {
        "colab": {
          "base_uri": "https://localhost:8080/"
        },
        "id": "hCl2--WgXjLo",
        "outputId": "3973c660-3944-4d05-b5a0-96ad518cfd0e"
      },
      "execution_count": 4,
      "outputs": [
        {
          "output_type": "stream",
          "name": "stdout",
          "text": [
            "Tiempo de ejecución del método Acierto y Error (t1): 28.6 ms\n",
            "Varianza del método Acierto y Error (var1): 0.23294364\n",
            "Tiempo de ejecución del método Crudo (t2): 24.3 ms\n",
            "Varianza del método Crudo (var2): 0.042286407327671666\n",
            "\n",
            "Valor de E = ((t1 * var1) / (t2 * var2)): 6.483504672830493\n",
            "Según la fórmula, el método Acierto y Error es más eficiente o similar.\n"
          ]
        }
      ]
    }
  ]
}