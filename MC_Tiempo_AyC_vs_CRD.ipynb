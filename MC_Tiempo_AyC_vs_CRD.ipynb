{
  "nbformat": 4,
  "nbformat_minor": 0,
  "metadata": {
    "colab": {
      "provenance": [],
      "authorship_tag": "ABX9TyNo0hPlXA+f/Gnj4W4Y9gy8",
      "include_colab_link": true
    },
    "kernelspec": {
      "name": "python3",
      "display_name": "Python 3"
    },
    "language_info": {
      "name": "python"
    }
  },
  "cells": [
    {
      "cell_type": "markdown",
      "metadata": {
        "id": "view-in-github",
        "colab_type": "text"
      },
      "source": [
        "<a href=\"https://colab.research.google.com/github/JazmineOrtizMarin/Simulaci-n-2/blob/main/MC_Tiempo_AyC_vs_CRD.ipynb\" target=\"_parent\"><img src=\"https://colab.research.google.com/assets/colab-badge.svg\" alt=\"Open In Colab\"/></a>"
      ]
    },
    {
      "cell_type": "code",
      "execution_count": 45,
      "metadata": {
        "id": "iJKPYrb5O78g"
      },
      "outputs": [],
      "source": [
        "import numpy as np\n",
        "import matplotlib.pyplot as plt\n",
        "import random as rd\n",
        "from scipy.integrate import quad"
      ]
    },
    {
      "cell_type": "markdown",
      "source": [
        "Monte Carlo: Acierto y Error"
      ],
      "metadata": {
        "id": "KzN3vyHNQUgT"
      }
    },
    {
      "cell_type": "code",
      "source": [
        "%%time\n",
        "\n",
        "def g(x):\n",
        "  return np.sqrt(np.arctan(x))\n",
        "\n",
        "aciertos=0\n",
        "N=10000\n",
        "\n",
        "for i in range (N):\n",
        "  x = rd.random()\n",
        "  y = rd.random()\n",
        "\n",
        "  if y <= g(x):\n",
        "    aciertos+=1\n",
        "  else:\n",
        "    aciertos+=0\n",
        "\n",
        "I=aciertos/N\n",
        "var=(aciertos/N)-(I**2)\n",
        "print(\"El valor estimado es: \",I, \"\\nVarianza: \",var)"
      ],
      "metadata": {
        "colab": {
          "base_uri": "https://localhost:8080/"
        },
        "id": "87Tm8hdlQT6r",
        "outputId": "93c62199-8fe8-42ff-e831-f13425264f68"
      },
      "execution_count": 66,
      "outputs": [
        {
          "output_type": "stream",
          "name": "stdout",
          "text": [
            "El valor estimado es:  0.6306 \n",
            "Varianza:  0.23294364\n",
            "CPU times: user 28.7 ms, sys: 7 µs, total: 28.7 ms\n",
            "Wall time: 28.6 ms\n"
          ]
        }
      ]
    },
    {
      "cell_type": "markdown",
      "source": [
        "Monte Carlo: Crudo"
      ],
      "metadata": {
        "id": "rvDh6dMiSNHb"
      }
    },
    {
      "cell_type": "code",
      "source": [
        "%%time\n",
        "\n",
        "def g(x):\n",
        "  return np.sqrt(np.arctan(x))\n",
        "\n",
        "def crudo(N):\n",
        "  G=[]\n",
        "  for i in range (N):\n",
        "    u=rd.random()\n",
        "    G.append(g(u))\n",
        "  return np.mean(G), np.var(G), np.std(G), G\n",
        "\n",
        "e=crudo(10000)\n",
        "\n",
        "print(\"El valor estimado es: \", e[0], \"\\nVarianza: \", e[1])"
      ],
      "metadata": {
        "colab": {
          "base_uri": "https://localhost:8080/"
        },
        "id": "WdPbAqZ5SQ5y",
        "outputId": "dd55df0e-0a4a-47a8-9469-17a6c16c066a"
      },
      "execution_count": 67,
      "outputs": [
        {
          "output_type": "stream",
          "name": "stdout",
          "text": [
            "El valor estimado es:  0.628821954969806 \n",
            "Varianza:  0.042286407327671666\n",
            "CPU times: user 24.7 ms, sys: 7 µs, total: 24.7 ms\n",
            "Wall time: 24.3 ms\n"
          ]
        }
      ]
    }
  ]
}