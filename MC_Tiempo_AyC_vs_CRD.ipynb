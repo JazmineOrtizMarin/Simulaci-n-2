{
  "nbformat": 4,
  "nbformat_minor": 0,
  "metadata": {
    "colab": {
      "provenance": [],
      "authorship_tag": "ABX9TyMbf0eqWYLywgIKgF7YHdGQ",
      "include_colab_link": true
    },
    "kernelspec": {
      "name": "python3",
      "display_name": "Python 3"
    },
    "language_info": {
      "name": "python"
    }
  },
  "cells": [
    {
      "cell_type": "markdown",
      "metadata": {
        "id": "view-in-github",
        "colab_type": "text"
      },
      "source": [
        "<a href=\"https://colab.research.google.com/github/JazmineOrtizMarin/Simulaci-n-2/blob/main/MC_Tiempo_AyC_vs_CRD.ipynb\" target=\"_parent\"><img src=\"https://colab.research.google.com/assets/colab-badge.svg\" alt=\"Open In Colab\"/></a>"
      ]
    },
    {
      "cell_type": "code",
      "execution_count": 67,
      "metadata": {
        "id": "iJKPYrb5O78g"
      },
      "outputs": [],
      "source": [
        "import numpy as np\n",
        "import matplotlib.pyplot as plt\n",
        "import random as rd\n",
        "import time"
      ]
    },
    {
      "cell_type": "code",
      "source": [
        "def g(x):\n",
        "  return np.sqrt(np.arctan(x))"
      ],
      "metadata": {
        "id": "Ay1QenqsZK9f"
      },
      "execution_count": 68,
      "outputs": []
    },
    {
      "cell_type": "markdown",
      "source": [
        "**Monte Carlo: Acierto y Error**\n",
        "\n"
      ],
      "metadata": {
        "id": "KzN3vyHNQUgT"
      }
    },
    {
      "cell_type": "code",
      "source": [
        "def estimacion_1(n):\n",
        "  aciertos=0\n",
        "  for i in range (n):\n",
        "    x = rd.random()\n",
        "    y = rd.random()\n",
        "\n",
        "    if y <= g(x):\n",
        "      aciertos+=1\n",
        "  I=aciertos/n\n",
        "  return I"
      ],
      "metadata": {
        "id": "gJc7My0uZSdY"
      },
      "execution_count": 69,
      "outputs": []
    },
    {
      "cell_type": "code",
      "source": [
        "estimacion_1(1000)"
      ],
      "metadata": {
        "id": "TfMvH5Z9Z-tP",
        "outputId": "b16d2dad-1760-45a3-83dd-23b10572d59c",
        "colab": {
          "base_uri": "https://localhost:8080/"
        }
      },
      "execution_count": 70,
      "outputs": [
        {
          "output_type": "execute_result",
          "data": {
            "text/plain": [
              "0.635"
            ]
          },
          "metadata": {},
          "execution_count": 70
        }
      ]
    },
    {
      "cell_type": "markdown",
      "source": [
        "Hacemos una función que la llame 50 veces, de ahí calcular la varianza y medimos el tiempo:"
      ],
      "metadata": {
        "id": "U63GZvNSaIl_"
      }
    },
    {
      "cell_type": "code",
      "source": [
        "def evaluar_acierto_y_error(n_puntos, repeticiones=50):\n",
        "  inicio_tiempo = time.time()\n",
        "  lista_resultados = [] # Arreglo para guardar los resultados\n",
        "  for _ in range(repeticiones):\n",
        "    resultado = estimacion_1(n_puntos)\n",
        "    lista_resultados.append(resultado)\n",
        "  fin_tiempo = time.time()\n",
        "  tiempo_total = fin_tiempo - inicio_tiempo\n",
        "  varianza_resultados = np.var(lista_resultados)\n",
        "  return tiempo_total, varianza_resultados"
      ],
      "metadata": {
        "id": "RLfOhAxbvsnF"
      },
      "execution_count": 155,
      "outputs": []
    },
    {
      "cell_type": "code",
      "source": [
        "n = 1000\n",
        "t_1, var_1 = evaluar_acierto_y_error(n, repeticiones=50)"
      ],
      "metadata": {
        "id": "A35KqKppGa8L"
      },
      "execution_count": 162,
      "outputs": []
    },
    {
      "cell_type": "code",
      "source": [
        "print(f\"Acierto y Error (50 ejecuciones):\", \"\\n-----------------------------------\")\n",
        "print(f\"Tiempo de ejecución (t_1): {t_1:.5f}s\")\n",
        "print(f\"Varianza (var_Theta_1): {var_1:.8f}\")"
      ],
      "metadata": {
        "colab": {
          "base_uri": "https://localhost:8080/"
        },
        "id": "cHA-gM4HCyq8",
        "outputId": "73fcf5b7-6a68-4bd6-b0ac-adf1515a5c1e"
      },
      "execution_count": 163,
      "outputs": [
        {
          "output_type": "stream",
          "name": "stdout",
          "text": [
            "Acierto y Error (50 ejecuciones): \n",
            "-----------------------------------\n",
            "Tiempo de ejecución (t_1): 0.22602s\n",
            "Varianza (var_Theta_1): 0.00017114\n"
          ]
        }
      ]
    },
    {
      "cell_type": "markdown",
      "source": [
        "**Monte Carlo: Crudo**"
      ],
      "metadata": {
        "id": "rvDh6dMiSNHb"
      }
    },
    {
      "cell_type": "code",
      "source": [
        "def crudo(N):\n",
        "  G=[]\n",
        "  for i in range (N):\n",
        "    u=rd.random()\n",
        "    G.append(g(u))\n",
        "  return np.mean(G), np.var(G), np.std(G), G"
      ],
      "metadata": {
        "id": "WdPbAqZ5SQ5y"
      },
      "execution_count": 73,
      "outputs": []
    },
    {
      "cell_type": "code",
      "source": [
        "e=crudo(1000)"
      ],
      "metadata": {
        "id": "3Vm3WrWy2LJ1"
      },
      "execution_count": 74,
      "outputs": []
    },
    {
      "cell_type": "markdown",
      "source": [
        "Llamamos a la función 50 veces para calcular el tiempo:\n",
        "\n"
      ],
      "metadata": {
        "id": "7A05_ss1Xa64"
      }
    },
    {
      "cell_type": "code",
      "source": [
        "def evaluar_crudo(n_puntos, repeticiones=50):\n",
        "  inicio_tiempo = time.time()\n",
        "  lista_de_medias = [] # Arreglo para guardar los resultados\n",
        "  for _ in range(repeticiones):\n",
        "    resultado_completo = crudo(n_puntos)\n",
        "    estimacion_integral = resultado_completo[0]\n",
        "    lista_de_medias.append(estimacion_integral)\n",
        "  fin_tiempo = time.time()\n",
        "  tiempo_total = fin_tiempo - inicio_tiempo\n",
        "  varianza_de_medias = np.var(lista_de_medias)\n",
        "  return tiempo_total, varianza_de_medias"
      ],
      "metadata": {
        "id": "lvGUaUEXY9Sv"
      },
      "execution_count": 148,
      "outputs": []
    },
    {
      "cell_type": "code",
      "source": [
        "n = 1000\n",
        "t_2, var_2 = evaluar_crudo(n, repeticiones=50)"
      ],
      "metadata": {
        "id": "uLf1OBcZGgcr"
      },
      "execution_count": 153,
      "outputs": []
    },
    {
      "cell_type": "code",
      "source": [
        "print(f\"Crudo (50 ejecuciones):\", \"\\n-------------------------------------------\")\n",
        "print(f\"Tiempo de ejecución (t_2): {t_2:.5f} segundos\")\n",
        "print(f\"Varianza (var_2): {var_2:.8f}\")"
      ],
      "metadata": {
        "colab": {
          "base_uri": "https://localhost:8080/"
        },
        "id": "n1ewU-7wC5Ar",
        "outputId": "21b24619-0c66-4cd8-9929-a49395df236d"
      },
      "execution_count": 154,
      "outputs": [
        {
          "output_type": "stream",
          "name": "stdout",
          "text": [
            "Crudo (50 ejecuciones): \n",
            "-------------------------------------------\n",
            "Tiempo de ejecución (t_2): 0.12689 segundos\n",
            "Varianza (var_2): 0.00005561\n"
          ]
        }
      ]
    },
    {
      "cell_type": "markdown",
      "source": [
        "**EFICIENCIA**"
      ],
      "metadata": {
        "id": "1ZFB_P9iDHsU"
      }
    },
    {
      "cell_type": "code",
      "source": [],
      "metadata": {
        "id": "zQHkO7g_DfcM"
      },
      "execution_count": null,
      "outputs": []
    }
  ]
}